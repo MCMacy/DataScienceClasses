{
  "nbformat": 4,
  "nbformat_minor": 5,
  "metadata": {
    "kernelspec": {
      "display_name": "Python 3",
      "language": "python",
      "name": "python3"
    },
    "language_info": {
      "codemirror_mode": {
        "name": "ipython",
        "version": 3
      },
      "file_extension": ".py",
      "mimetype": "text/x-python",
      "name": "python",
      "nbconvert_exporter": "python",
      "pygments_lexer": "ipython3",
      "version": "3.8.8"
    },
    "colab": {
      "name": "Copy of Data201_Project1_Obesity.ipynb",
      "provenance": [],
      "collapsed_sections": [],
      "include_colab_link": true
    }
  },
  "cells": [
    {
      "cell_type": "markdown",
      "metadata": {
        "id": "view-in-github",
        "colab_type": "text"
      },
      "source": [
        "<a href=\"https://colab.research.google.com/github/sopranomax/DataScienceClasses/blob/main/Data201_Project1_Obesity.ipynb\" target=\"_parent\"><img src=\"https://colab.research.google.com/assets/colab-badge.svg\" alt=\"Open In Colab\"/></a>"
      ]
    },
    {
      "cell_type": "markdown",
      "metadata": {
        "id": "34a0b4da"
      },
      "source": [
        "# Data 201 Project 1 Obesity Data\n",
        "### Marilyn Macy, Preethi Athota and Kris Sutton\n",
        "### November 4, 2021\n",
        "\n",
        "## Dataset - Estimation of obesity levels based on eating habits and physical condition\n",
        "### Source: UCI Machine Learning Repository\n",
        "#### https://archive-beta.ics.uci.edu/ml/datasets/estimation+of+obesity+levels+based+on+eating+habits+and+physical+condition\n",
        "\n",
        "Additional Source: Kaggle\n",
        "https://www.kaggle.com/pmrich/obesitydataset-eda-data-prep-ml-hypertuning\n",
        "\n",
        "\n",
        "### Dataset information\n",
        "\n",
        "The dataset includes data for the estimation of obesity levels in individuals from the countries of Mexico, Peru and Colombia, based on their eating habits and physical condition. The dataset was contributed to the UCI Machine Learning Repository on 2019-08-27.\n",
        "\n",
        "**Number of observations:** 2111\n",
        "\n",
        "**Number of variables:** 17\n",
        "\n",
        "**Data Dictionary:**  \n",
        "\n",
        "Category\t| Feature Name | Description | Variable Type\n",
        "--------- | ------------ | ------------ | -------------- \n",
        "Target Variable | NObesity | Based on BMI | Categorical\n",
        "Eating Habits |\tFAVC | Frequent consumption of high caloric food | Categorical \n",
        "Eating Habits |\tFCVC | Frequency of consumption of vegetables\t| Ordinal \n",
        "Eating Habits\t| NCP | Number of main meals | Ordinal\n",
        "Eating Habits\t| CAEC | Consumption of food between meals | Ordinal\n",
        "Eating Habits\t| CH20 | Consumption of water daily | Ordinal\n",
        "Eating Habits\t| CALC | Consumption of alcohol | Ordinal\n",
        "Physical Conditioning | SCC | Calories consumption monitoring | Categorical\n",
        "Physical Conditioning | FAF\t| Pysical activity frequency | Ordinal\n",
        "Physical Conditioning | TUE\t| Time using technology devices | Ordinal\n",
        "Physical Conditioning | MTRANS | Transportation used | Categorical\n",
        "Physical Conditioning | SMOKE |\tSmokes Yes or No | Categorical\n",
        "Responder Characteristics | Family History with Overweight | Yes or No | Categorical\n",
        "Responder Charateristics | Gender | Male or Female | Categorical\n",
        "Responder Charateristics | Age | Age in years | Integer\n",
        "Responder Charateristics | Height | Height in meters | Float\n",
        "Responder Charateristics | Weight | Weight in kilograms | Float\n",
        "\n",
        "## Project 1 Questions\n",
        "\n",
        "1. Is BMI distribution approximately normal? For males? For females?\n",
        "2. Is there a relationship between transportation method and obesity?\n",
        "3. Is there a relationship between family history with overweight and obesity? \n",
        "\n"
      ],
      "id": "34a0b4da"
    },
    {
      "cell_type": "code",
      "metadata": {
        "id": "70c0b772"
      },
      "source": [
        "#import pandas\n",
        "import pandas as pd\n",
        "#import numpy\n",
        "import numpy as np\n",
        "#import matplotlib\n",
        "import matplotlib as mpl \n",
        "#import pyplot\n",
        "import matplotlib.pyplot as plt\n",
        "#import seaborn\n",
        "import seaborn as sns\n",
        "#import dataset\n",
        "\n",
        "plt.style.use('classic')\n",
        "\n",
        "from pandas_profiling import ProfileReport\n",
        "from IPython.display import Image"
      ],
      "id": "70c0b772",
      "execution_count": 10,
      "outputs": []
    },
    {
      "cell_type": "code",
      "metadata": {
        "id": "a_SpOKJQd4cm",
        "colab": {
          "base_uri": "https://localhost:8080/",
          "height": 204
        },
        "outputId": "ad741b28-20d9-4c55-8f09-656094fb3438"
      },
      "source": [
        "# read obesity dataset\n",
        "obesity = pd.read_csv('/content/sample_data/ObesityDataSet_raw_and_data_sinthetic.csv')\n",
        "ob_clean = pd.read_csv('/content/sample_data/ObesityDataSet_raw_and_data_sinthetic.csv')\n",
        "#obesity = pd.read_csv('https://github.com/sopranomax/DataScienceClasses/blob/main/ObesityDataSet_raw_and_data_sinthetic.csv')\n",
        "obesity.head()\n"
      ],
      "id": "a_SpOKJQd4cm",
      "execution_count": 11,
      "outputs": [
        {
          "output_type": "execute_result",
          "data": {
            "text/html": [
              "<div>\n",
              "<style scoped>\n",
              "    .dataframe tbody tr th:only-of-type {\n",
              "        vertical-align: middle;\n",
              "    }\n",
              "\n",
              "    .dataframe tbody tr th {\n",
              "        vertical-align: top;\n",
              "    }\n",
              "\n",
              "    .dataframe thead th {\n",
              "        text-align: right;\n",
              "    }\n",
              "</style>\n",
              "<table border=\"1\" class=\"dataframe\">\n",
              "  <thead>\n",
              "    <tr style=\"text-align: right;\">\n",
              "      <th></th>\n",
              "      <th>Gender</th>\n",
              "      <th>Age</th>\n",
              "      <th>Height</th>\n",
              "      <th>Weight</th>\n",
              "      <th>family_history_with_overweight</th>\n",
              "      <th>FAVC</th>\n",
              "      <th>FCVC</th>\n",
              "      <th>NCP</th>\n",
              "      <th>CAEC</th>\n",
              "      <th>SMOKE</th>\n",
              "      <th>CH2O</th>\n",
              "      <th>SCC</th>\n",
              "      <th>FAF</th>\n",
              "      <th>TUE</th>\n",
              "      <th>CALC</th>\n",
              "      <th>MTRANS</th>\n",
              "      <th>NObeyesdad</th>\n",
              "    </tr>\n",
              "  </thead>\n",
              "  <tbody>\n",
              "    <tr>\n",
              "      <th>0</th>\n",
              "      <td>Female</td>\n",
              "      <td>21.0</td>\n",
              "      <td>1.62</td>\n",
              "      <td>64.0</td>\n",
              "      <td>yes</td>\n",
              "      <td>no</td>\n",
              "      <td>2.0</td>\n",
              "      <td>3.0</td>\n",
              "      <td>Sometimes</td>\n",
              "      <td>no</td>\n",
              "      <td>2.0</td>\n",
              "      <td>no</td>\n",
              "      <td>0.0</td>\n",
              "      <td>1.0</td>\n",
              "      <td>no</td>\n",
              "      <td>Public_Transportation</td>\n",
              "      <td>Normal_Weight</td>\n",
              "    </tr>\n",
              "    <tr>\n",
              "      <th>1</th>\n",
              "      <td>Female</td>\n",
              "      <td>21.0</td>\n",
              "      <td>1.52</td>\n",
              "      <td>56.0</td>\n",
              "      <td>yes</td>\n",
              "      <td>no</td>\n",
              "      <td>3.0</td>\n",
              "      <td>3.0</td>\n",
              "      <td>Sometimes</td>\n",
              "      <td>yes</td>\n",
              "      <td>3.0</td>\n",
              "      <td>yes</td>\n",
              "      <td>3.0</td>\n",
              "      <td>0.0</td>\n",
              "      <td>Sometimes</td>\n",
              "      <td>Public_Transportation</td>\n",
              "      <td>Normal_Weight</td>\n",
              "    </tr>\n",
              "    <tr>\n",
              "      <th>2</th>\n",
              "      <td>Male</td>\n",
              "      <td>23.0</td>\n",
              "      <td>1.80</td>\n",
              "      <td>77.0</td>\n",
              "      <td>yes</td>\n",
              "      <td>no</td>\n",
              "      <td>2.0</td>\n",
              "      <td>3.0</td>\n",
              "      <td>Sometimes</td>\n",
              "      <td>no</td>\n",
              "      <td>2.0</td>\n",
              "      <td>no</td>\n",
              "      <td>2.0</td>\n",
              "      <td>1.0</td>\n",
              "      <td>Frequently</td>\n",
              "      <td>Public_Transportation</td>\n",
              "      <td>Normal_Weight</td>\n",
              "    </tr>\n",
              "    <tr>\n",
              "      <th>3</th>\n",
              "      <td>Male</td>\n",
              "      <td>27.0</td>\n",
              "      <td>1.80</td>\n",
              "      <td>87.0</td>\n",
              "      <td>no</td>\n",
              "      <td>no</td>\n",
              "      <td>3.0</td>\n",
              "      <td>3.0</td>\n",
              "      <td>Sometimes</td>\n",
              "      <td>no</td>\n",
              "      <td>2.0</td>\n",
              "      <td>no</td>\n",
              "      <td>2.0</td>\n",
              "      <td>0.0</td>\n",
              "      <td>Frequently</td>\n",
              "      <td>Walking</td>\n",
              "      <td>Overweight_Level_I</td>\n",
              "    </tr>\n",
              "    <tr>\n",
              "      <th>4</th>\n",
              "      <td>Male</td>\n",
              "      <td>22.0</td>\n",
              "      <td>1.78</td>\n",
              "      <td>89.8</td>\n",
              "      <td>no</td>\n",
              "      <td>no</td>\n",
              "      <td>2.0</td>\n",
              "      <td>1.0</td>\n",
              "      <td>Sometimes</td>\n",
              "      <td>no</td>\n",
              "      <td>2.0</td>\n",
              "      <td>no</td>\n",
              "      <td>0.0</td>\n",
              "      <td>0.0</td>\n",
              "      <td>Sometimes</td>\n",
              "      <td>Public_Transportation</td>\n",
              "      <td>Overweight_Level_II</td>\n",
              "    </tr>\n",
              "  </tbody>\n",
              "</table>\n",
              "</div>"
            ],
            "text/plain": [
              "   Gender   Age  Height  ...        CALC                 MTRANS           NObeyesdad\n",
              "0  Female  21.0    1.62  ...          no  Public_Transportation        Normal_Weight\n",
              "1  Female  21.0    1.52  ...   Sometimes  Public_Transportation        Normal_Weight\n",
              "2    Male  23.0    1.80  ...  Frequently  Public_Transportation        Normal_Weight\n",
              "3    Male  27.0    1.80  ...  Frequently                Walking   Overweight_Level_I\n",
              "4    Male  22.0    1.78  ...   Sometimes  Public_Transportation  Overweight_Level_II\n",
              "\n",
              "[5 rows x 17 columns]"
            ]
          },
          "metadata": {},
          "execution_count": 11
        }
      ]
    },
    {
      "cell_type": "markdown",
      "metadata": {
        "id": "nB7PUfBH20jV"
      },
      "source": [
        "Check the dataset for nulls:"
      ],
      "id": "nB7PUfBH20jV"
    },
    {
      "cell_type": "code",
      "metadata": {
        "colab": {
          "base_uri": "https://localhost:8080/",
          "height": 419
        },
        "id": "CwTNimw227pM",
        "outputId": "0d6ca7ff-b923-4bd2-db15-fd8acc7fe9ca"
      },
      "source": [
        "#Checking for N/A\n",
        "obesity.isnull()"
      ],
      "id": "CwTNimw227pM",
      "execution_count": 12,
      "outputs": [
        {
          "output_type": "execute_result",
          "data": {
            "text/html": [
              "<div>\n",
              "<style scoped>\n",
              "    .dataframe tbody tr th:only-of-type {\n",
              "        vertical-align: middle;\n",
              "    }\n",
              "\n",
              "    .dataframe tbody tr th {\n",
              "        vertical-align: top;\n",
              "    }\n",
              "\n",
              "    .dataframe thead th {\n",
              "        text-align: right;\n",
              "    }\n",
              "</style>\n",
              "<table border=\"1\" class=\"dataframe\">\n",
              "  <thead>\n",
              "    <tr style=\"text-align: right;\">\n",
              "      <th></th>\n",
              "      <th>Gender</th>\n",
              "      <th>Age</th>\n",
              "      <th>Height</th>\n",
              "      <th>Weight</th>\n",
              "      <th>family_history_with_overweight</th>\n",
              "      <th>FAVC</th>\n",
              "      <th>FCVC</th>\n",
              "      <th>NCP</th>\n",
              "      <th>CAEC</th>\n",
              "      <th>SMOKE</th>\n",
              "      <th>CH2O</th>\n",
              "      <th>SCC</th>\n",
              "      <th>FAF</th>\n",
              "      <th>TUE</th>\n",
              "      <th>CALC</th>\n",
              "      <th>MTRANS</th>\n",
              "      <th>NObeyesdad</th>\n",
              "    </tr>\n",
              "  </thead>\n",
              "  <tbody>\n",
              "    <tr>\n",
              "      <th>0</th>\n",
              "      <td>False</td>\n",
              "      <td>False</td>\n",
              "      <td>False</td>\n",
              "      <td>False</td>\n",
              "      <td>False</td>\n",
              "      <td>False</td>\n",
              "      <td>False</td>\n",
              "      <td>False</td>\n",
              "      <td>False</td>\n",
              "      <td>False</td>\n",
              "      <td>False</td>\n",
              "      <td>False</td>\n",
              "      <td>False</td>\n",
              "      <td>False</td>\n",
              "      <td>False</td>\n",
              "      <td>False</td>\n",
              "      <td>False</td>\n",
              "    </tr>\n",
              "    <tr>\n",
              "      <th>1</th>\n",
              "      <td>False</td>\n",
              "      <td>False</td>\n",
              "      <td>False</td>\n",
              "      <td>False</td>\n",
              "      <td>False</td>\n",
              "      <td>False</td>\n",
              "      <td>False</td>\n",
              "      <td>False</td>\n",
              "      <td>False</td>\n",
              "      <td>False</td>\n",
              "      <td>False</td>\n",
              "      <td>False</td>\n",
              "      <td>False</td>\n",
              "      <td>False</td>\n",
              "      <td>False</td>\n",
              "      <td>False</td>\n",
              "      <td>False</td>\n",
              "    </tr>\n",
              "    <tr>\n",
              "      <th>2</th>\n",
              "      <td>False</td>\n",
              "      <td>False</td>\n",
              "      <td>False</td>\n",
              "      <td>False</td>\n",
              "      <td>False</td>\n",
              "      <td>False</td>\n",
              "      <td>False</td>\n",
              "      <td>False</td>\n",
              "      <td>False</td>\n",
              "      <td>False</td>\n",
              "      <td>False</td>\n",
              "      <td>False</td>\n",
              "      <td>False</td>\n",
              "      <td>False</td>\n",
              "      <td>False</td>\n",
              "      <td>False</td>\n",
              "      <td>False</td>\n",
              "    </tr>\n",
              "    <tr>\n",
              "      <th>3</th>\n",
              "      <td>False</td>\n",
              "      <td>False</td>\n",
              "      <td>False</td>\n",
              "      <td>False</td>\n",
              "      <td>False</td>\n",
              "      <td>False</td>\n",
              "      <td>False</td>\n",
              "      <td>False</td>\n",
              "      <td>False</td>\n",
              "      <td>False</td>\n",
              "      <td>False</td>\n",
              "      <td>False</td>\n",
              "      <td>False</td>\n",
              "      <td>False</td>\n",
              "      <td>False</td>\n",
              "      <td>False</td>\n",
              "      <td>False</td>\n",
              "    </tr>\n",
              "    <tr>\n",
              "      <th>4</th>\n",
              "      <td>False</td>\n",
              "      <td>False</td>\n",
              "      <td>False</td>\n",
              "      <td>False</td>\n",
              "      <td>False</td>\n",
              "      <td>False</td>\n",
              "      <td>False</td>\n",
              "      <td>False</td>\n",
              "      <td>False</td>\n",
              "      <td>False</td>\n",
              "      <td>False</td>\n",
              "      <td>False</td>\n",
              "      <td>False</td>\n",
              "      <td>False</td>\n",
              "      <td>False</td>\n",
              "      <td>False</td>\n",
              "      <td>False</td>\n",
              "    </tr>\n",
              "    <tr>\n",
              "      <th>...</th>\n",
              "      <td>...</td>\n",
              "      <td>...</td>\n",
              "      <td>...</td>\n",
              "      <td>...</td>\n",
              "      <td>...</td>\n",
              "      <td>...</td>\n",
              "      <td>...</td>\n",
              "      <td>...</td>\n",
              "      <td>...</td>\n",
              "      <td>...</td>\n",
              "      <td>...</td>\n",
              "      <td>...</td>\n",
              "      <td>...</td>\n",
              "      <td>...</td>\n",
              "      <td>...</td>\n",
              "      <td>...</td>\n",
              "      <td>...</td>\n",
              "    </tr>\n",
              "    <tr>\n",
              "      <th>2106</th>\n",
              "      <td>False</td>\n",
              "      <td>False</td>\n",
              "      <td>False</td>\n",
              "      <td>False</td>\n",
              "      <td>False</td>\n",
              "      <td>False</td>\n",
              "      <td>False</td>\n",
              "      <td>False</td>\n",
              "      <td>False</td>\n",
              "      <td>False</td>\n",
              "      <td>False</td>\n",
              "      <td>False</td>\n",
              "      <td>False</td>\n",
              "      <td>False</td>\n",
              "      <td>False</td>\n",
              "      <td>False</td>\n",
              "      <td>False</td>\n",
              "    </tr>\n",
              "    <tr>\n",
              "      <th>2107</th>\n",
              "      <td>False</td>\n",
              "      <td>False</td>\n",
              "      <td>False</td>\n",
              "      <td>False</td>\n",
              "      <td>False</td>\n",
              "      <td>False</td>\n",
              "      <td>False</td>\n",
              "      <td>False</td>\n",
              "      <td>False</td>\n",
              "      <td>False</td>\n",
              "      <td>False</td>\n",
              "      <td>False</td>\n",
              "      <td>False</td>\n",
              "      <td>False</td>\n",
              "      <td>False</td>\n",
              "      <td>False</td>\n",
              "      <td>False</td>\n",
              "    </tr>\n",
              "    <tr>\n",
              "      <th>2108</th>\n",
              "      <td>False</td>\n",
              "      <td>False</td>\n",
              "      <td>False</td>\n",
              "      <td>False</td>\n",
              "      <td>False</td>\n",
              "      <td>False</td>\n",
              "      <td>False</td>\n",
              "      <td>False</td>\n",
              "      <td>False</td>\n",
              "      <td>False</td>\n",
              "      <td>False</td>\n",
              "      <td>False</td>\n",
              "      <td>False</td>\n",
              "      <td>False</td>\n",
              "      <td>False</td>\n",
              "      <td>False</td>\n",
              "      <td>False</td>\n",
              "    </tr>\n",
              "    <tr>\n",
              "      <th>2109</th>\n",
              "      <td>False</td>\n",
              "      <td>False</td>\n",
              "      <td>False</td>\n",
              "      <td>False</td>\n",
              "      <td>False</td>\n",
              "      <td>False</td>\n",
              "      <td>False</td>\n",
              "      <td>False</td>\n",
              "      <td>False</td>\n",
              "      <td>False</td>\n",
              "      <td>False</td>\n",
              "      <td>False</td>\n",
              "      <td>False</td>\n",
              "      <td>False</td>\n",
              "      <td>False</td>\n",
              "      <td>False</td>\n",
              "      <td>False</td>\n",
              "    </tr>\n",
              "    <tr>\n",
              "      <th>2110</th>\n",
              "      <td>False</td>\n",
              "      <td>False</td>\n",
              "      <td>False</td>\n",
              "      <td>False</td>\n",
              "      <td>False</td>\n",
              "      <td>False</td>\n",
              "      <td>False</td>\n",
              "      <td>False</td>\n",
              "      <td>False</td>\n",
              "      <td>False</td>\n",
              "      <td>False</td>\n",
              "      <td>False</td>\n",
              "      <td>False</td>\n",
              "      <td>False</td>\n",
              "      <td>False</td>\n",
              "      <td>False</td>\n",
              "      <td>False</td>\n",
              "    </tr>\n",
              "  </tbody>\n",
              "</table>\n",
              "<p>2111 rows × 17 columns</p>\n",
              "</div>"
            ],
            "text/plain": [
              "      Gender    Age  Height  Weight  ...    TUE   CALC  MTRANS  NObeyesdad\n",
              "0      False  False   False   False  ...  False  False   False       False\n",
              "1      False  False   False   False  ...  False  False   False       False\n",
              "2      False  False   False   False  ...  False  False   False       False\n",
              "3      False  False   False   False  ...  False  False   False       False\n",
              "4      False  False   False   False  ...  False  False   False       False\n",
              "...      ...    ...     ...     ...  ...    ...    ...     ...         ...\n",
              "2106   False  False   False   False  ...  False  False   False       False\n",
              "2107   False  False   False   False  ...  False  False   False       False\n",
              "2108   False  False   False   False  ...  False  False   False       False\n",
              "2109   False  False   False   False  ...  False  False   False       False\n",
              "2110   False  False   False   False  ...  False  False   False       False\n",
              "\n",
              "[2111 rows x 17 columns]"
            ]
          },
          "metadata": {},
          "execution_count": 12
        }
      ]
    },
    {
      "cell_type": "code",
      "metadata": {
        "colab": {
          "base_uri": "https://localhost:8080/"
        },
        "id": "1zG9RnFO3KEF",
        "outputId": "49713740-5949-4afc-c2ca-8712454d8b61"
      },
      "source": [
        "#Counting \"n/a\"s in dataset\n",
        "obesity.isna().sum()"
      ],
      "id": "1zG9RnFO3KEF",
      "execution_count": 13,
      "outputs": [
        {
          "output_type": "execute_result",
          "data": {
            "text/plain": [
              "Gender                            0\n",
              "Age                               0\n",
              "Height                            0\n",
              "Weight                            0\n",
              "family_history_with_overweight    0\n",
              "FAVC                              0\n",
              "FCVC                              0\n",
              "NCP                               0\n",
              "CAEC                              0\n",
              "SMOKE                             0\n",
              "CH2O                              0\n",
              "SCC                               0\n",
              "FAF                               0\n",
              "TUE                               0\n",
              "CALC                              0\n",
              "MTRANS                            0\n",
              "NObeyesdad                        0\n",
              "dtype: int64"
            ]
          },
          "metadata": {},
          "execution_count": 13
        }
      ]
    },
    {
      "cell_type": "markdown",
      "metadata": {
        "id": "-viawq4c8NXX"
      },
      "source": [
        "**Look at the distributions for Height and Weight**\n",
        "\n",
        "Boxplots show one outlier for Height and one outlier for Weight:"
      ],
      "id": "-viawq4c8NXX"
    },
    {
      "cell_type": "code",
      "metadata": {
        "colab": {
          "base_uri": "https://localhost:8080/",
          "height": 440
        },
        "id": "bCrcX2UB8UFf",
        "outputId": "4a28cc5c-f6db-4c92-dbd9-683969e9d405"
      },
      "source": [
        "plt.figure()  # create a plot figure\n",
        "\n",
        "# create the first of two panels and set current axis\n",
        "plt.subplot(1, 2, 1) # (rows, columns, panel number)\n",
        "plt.boxplot(obesity['Height'])\n",
        "\n",
        "# create the second panel and set current axis\n",
        "plt.subplot(1, 2, 2)\n",
        "plt.boxplot(obesity['Weight']);\n",
        "\n",
        "\n"
      ],
      "id": "bCrcX2UB8UFf",
      "execution_count": 27,
      "outputs": [
        {
          "output_type": "display_data",
          "data": {
            "image/png": "[encoded data removed]",
            "text/plain": [
              "<Figure size 640x480 with 2 Axes>"
            ]
          },
          "metadata": {}
        }
      ]
    },
    {
      "cell_type": "markdown",
      "metadata": {
        "id": "QqsZpkWsAq2o"
      },
      "source": [
        "Histograms for Height and Weight"
      ],
      "id": "QqsZpkWsAq2o"
    },
    {
      "cell_type": "code",
      "metadata": {
        "colab": {
          "base_uri": "https://localhost:8080/",
          "height": 440
        },
        "id": "DJXCEMcwCfLC",
        "outputId": "34950b56-e4e6-4187-b862-cec7b97935d7"
      },
      "source": [
        "# create the first of two panels and set current axis\n",
        "plt.subplot(2, 1, 1) # (rows, columns, panel number)\n",
        "plt.hist(obesity['Height'])\n",
        "\n",
        "# create the second panel and set current axis\n",
        "plt.subplot(2, 1, 2)\n",
        "plt.hist(obesity['Weight']);\n"
      ],
      "id": "DJXCEMcwCfLC",
      "execution_count": 30,
      "outputs": [
        {
          "output_type": "display_data",
          "data": {
            "image/png": "[encoded data removed]",
            "text/plain": [
              "<Figure size 640x480 with 2 Axes>"
            ]
          },
          "metadata": {}
        }
      ]
    },
    {
      "cell_type": "markdown",
      "metadata": {
        "id": "VGbSEU2FkGqB"
      },
      "source": [
        "Calculate Body Mass Index (BMI) = $weight (kg)$ / $(height (m))^2$"
      ],
      "id": "VGbSEU2FkGqB"
    },
    {
      "cell_type": "code",
      "metadata": {
        "id": "6a9Mxy97AvEW"
      },
      "source": [
        "# create the first of two panels and set current axis\n",
        "plt.subplot(1, 2, 1) # (rows, columns, panel number)\n",
        "plt.boxplot(obesity['Height'])\n",
        "\n",
        "# create the second panel and set current axis\n",
        "plt.subplot(1, 2, 2)\n",
        "plt.boxplot(obesity['Weight']);"
      ],
      "id": "6a9Mxy97AvEW",
      "execution_count": null,
      "outputs": []
    },
    {
      "cell_type": "code",
      "metadata": {
        "colab": {
          "base_uri": "https://localhost:8080/",
          "height": 204
        },
        "id": "uUFyqRWDiwpw",
        "outputId": "3d47248a-685c-4d9d-f680-c3ca77607fb2"
      },
      "source": [
        "# create BMI column\n",
        "obesity['BMI'] = obesity['Weight'] / obesity['Height'] ** 2\n",
        "obesity.head()"
      ],
      "id": "uUFyqRWDiwpw",
      "execution_count": 5,
      "outputs": [
        {
          "output_type": "execute_result",
          "data": {
            "text/html": [
              "<div>\n",
              "<style scoped>\n",
              "    .dataframe tbody tr th:only-of-type {\n",
              "        vertical-align: middle;\n",
              "    }\n",
              "\n",
              "    .dataframe tbody tr th {\n",
              "        vertical-align: top;\n",
              "    }\n",
              "\n",
              "    .dataframe thead th {\n",
              "        text-align: right;\n",
              "    }\n",
              "</style>\n",
              "<table border=\"1\" class=\"dataframe\">\n",
              "  <thead>\n",
              "    <tr style=\"text-align: right;\">\n",
              "      <th></th>\n",
              "      <th>Gender</th>\n",
              "      <th>Age</th>\n",
              "      <th>Height</th>\n",
              "      <th>Weight</th>\n",
              "      <th>family_history_with_overweight</th>\n",
              "      <th>FAVC</th>\n",
              "      <th>FCVC</th>\n",
              "      <th>NCP</th>\n",
              "      <th>CAEC</th>\n",
              "      <th>SMOKE</th>\n",
              "      <th>CH2O</th>\n",
              "      <th>SCC</th>\n",
              "      <th>FAF</th>\n",
              "      <th>TUE</th>\n",
              "      <th>CALC</th>\n",
              "      <th>MTRANS</th>\n",
              "      <th>NObeyesdad</th>\n",
              "      <th>BMI</th>\n",
              "    </tr>\n",
              "  </thead>\n",
              "  <tbody>\n",
              "    <tr>\n",
              "      <th>0</th>\n",
              "      <td>Female</td>\n",
              "      <td>21.0</td>\n",
              "      <td>1.62</td>\n",
              "      <td>64.0</td>\n",
              "      <td>yes</td>\n",
              "      <td>no</td>\n",
              "      <td>2.0</td>\n",
              "      <td>3.0</td>\n",
              "      <td>Sometimes</td>\n",
              "      <td>no</td>\n",
              "      <td>2.0</td>\n",
              "      <td>no</td>\n",
              "      <td>0.0</td>\n",
              "      <td>1.0</td>\n",
              "      <td>no</td>\n",
              "      <td>Public_Transportation</td>\n",
              "      <td>Normal_Weight</td>\n",
              "      <td>24.386526</td>\n",
              "    </tr>\n",
              "    <tr>\n",
              "      <th>1</th>\n",
              "      <td>Female</td>\n",
              "      <td>21.0</td>\n",
              "      <td>1.52</td>\n",
              "      <td>56.0</td>\n",
              "      <td>yes</td>\n",
              "      <td>no</td>\n",
              "      <td>3.0</td>\n",
              "      <td>3.0</td>\n",
              "      <td>Sometimes</td>\n",
              "      <td>yes</td>\n",
              "      <td>3.0</td>\n",
              "      <td>yes</td>\n",
              "      <td>3.0</td>\n",
              "      <td>0.0</td>\n",
              "      <td>Sometimes</td>\n",
              "      <td>Public_Transportation</td>\n",
              "      <td>Normal_Weight</td>\n",
              "      <td>24.238227</td>\n",
              "    </tr>\n",
              "    <tr>\n",
              "      <th>2</th>\n",
              "      <td>Male</td>\n",
              "      <td>23.0</td>\n",
              "      <td>1.80</td>\n",
              "      <td>77.0</td>\n",
              "      <td>yes</td>\n",
              "      <td>no</td>\n",
              "      <td>2.0</td>\n",
              "      <td>3.0</td>\n",
              "      <td>Sometimes</td>\n",
              "      <td>no</td>\n",
              "      <td>2.0</td>\n",
              "      <td>no</td>\n",
              "      <td>2.0</td>\n",
              "      <td>1.0</td>\n",
              "      <td>Frequently</td>\n",
              "      <td>Public_Transportation</td>\n",
              "      <td>Normal_Weight</td>\n",
              "      <td>23.765432</td>\n",
              "    </tr>\n",
              "    <tr>\n",
              "      <th>3</th>\n",
              "      <td>Male</td>\n",
              "      <td>27.0</td>\n",
              "      <td>1.80</td>\n",
              "      <td>87.0</td>\n",
              "      <td>no</td>\n",
              "      <td>no</td>\n",
              "      <td>3.0</td>\n",
              "      <td>3.0</td>\n",
              "      <td>Sometimes</td>\n",
              "      <td>no</td>\n",
              "      <td>2.0</td>\n",
              "      <td>no</td>\n",
              "      <td>2.0</td>\n",
              "      <td>0.0</td>\n",
              "      <td>Frequently</td>\n",
              "      <td>Walking</td>\n",
              "      <td>Overweight_Level_I</td>\n",
              "      <td>26.851852</td>\n",
              "    </tr>\n",
              "    <tr>\n",
              "      <th>4</th>\n",
              "      <td>Male</td>\n",
              "      <td>22.0</td>\n",
              "      <td>1.78</td>\n",
              "      <td>89.8</td>\n",
              "      <td>no</td>\n",
              "      <td>no</td>\n",
              "      <td>2.0</td>\n",
              "      <td>1.0</td>\n",
              "      <td>Sometimes</td>\n",
              "      <td>no</td>\n",
              "      <td>2.0</td>\n",
              "      <td>no</td>\n",
              "      <td>0.0</td>\n",
              "      <td>0.0</td>\n",
              "      <td>Sometimes</td>\n",
              "      <td>Public_Transportation</td>\n",
              "      <td>Overweight_Level_II</td>\n",
              "      <td>28.342381</td>\n",
              "    </tr>\n",
              "  </tbody>\n",
              "</table>\n",
              "</div>"
            ],
            "text/plain": [
              "   Gender   Age  Height  ...                 MTRANS           NObeyesdad        BMI\n",
              "0  Female  21.0    1.62  ...  Public_Transportation        Normal_Weight  24.386526\n",
              "1  Female  21.0    1.52  ...  Public_Transportation        Normal_Weight  24.238227\n",
              "2    Male  23.0    1.80  ...  Public_Transportation        Normal_Weight  23.765432\n",
              "3    Male  27.0    1.80  ...                Walking   Overweight_Level_I  26.851852\n",
              "4    Male  22.0    1.78  ...  Public_Transportation  Overweight_Level_II  28.342381\n",
              "\n",
              "[5 rows x 18 columns]"
            ]
          },
          "metadata": {},
          "execution_count": 5
        }
      ]
    },
    {
      "cell_type": "markdown",
      "metadata": {
        "id": "hPozOwMIpEuR"
      },
      "source": [
        "What does the distribution of BMI look like? The distribution of BMI is bimodal, the mean and median are close together. The mean is slighty higher than the median indicating some skew to the right.  "
      ],
      "id": "hPozOwMIpEuR"
    },
    {
      "cell_type": "code",
      "metadata": {
        "colab": {
          "base_uri": "https://localhost:8080/",
          "height": 476
        },
        "id": "Ic_5pZXOZs7M",
        "outputId": "109a4623-bd67-4c8c-c2ba-ed4c35867c54"
      },
      "source": [
        "import seaborn as sns\n",
        "sns.kdeplot(obesity['BMI'])\n",
        "plt.axvline(np.mean(obesity['BMI']), color='red')\n",
        "plt.axvline(np.median(obesity['BMI']), color='black')"
      ],
      "id": "Ic_5pZXOZs7M",
      "execution_count": 6,
      "outputs": [
        {
          "output_type": "execute_result",
          "data": {
            "text/plain": [
              "<matplotlib.lines.Line2D at 0x7f92c5d568d0>"
            ]
          },
          "metadata": {},
          "execution_count": 6
        },
        {
          "output_type": "display_data",
          "data": {
            "image/png": "[encoded data removed]",
            "text/plain": [
              "<Figure size 640x480 with 1 Axes>"
            ]
          },
          "metadata": {}
        }
      ]
    },
    {
      "cell_type": "markdown",
      "metadata": {
        "id": "00v5Fy09mE3K"
      },
      "source": [
        "WHO Weight categories: https://github.com/sopranomax/DataScienceClasses/blob/main/WHO_Obesity_Categories.jpg\n",
        "\n",
        "source: https://apps.who.int/iris/bitstream/handle/10665/43190/9241593024_eng.pdf\n",
        "\n",
        "What are the obesity categories in the dataset?\n",
        "\n",
        "What are the ranges for the obesity categories in the dataset?\n",
        "\n"
      ],
      "id": "00v5Fy09mE3K"
    },
    {
      "cell_type": "code",
      "metadata": {
        "colab": {
          "base_uri": "https://localhost:8080/"
        },
        "id": "CUVppD6OmKcp",
        "outputId": "5e387610-2aff-42d7-d590-1a95db6da018"
      },
      "source": [
        "# look at the obesity categories in the dataset\n",
        "o_cats = set(obesity['NObeyesdad'])\n",
        "o_cats\n",
        "o_ranges = np.array(o_cats, )"
      ],
      "id": "CUVppD6OmKcp",
      "execution_count": null,
      "outputs": [
        {
          "output_type": "execute_result",
          "data": {
            "text/plain": [
              "{'Insufficient_Weight',\n",
              " 'Normal_Weight',\n",
              " 'Obesity_Type_I',\n",
              " 'Obesity_Type_II',\n",
              " 'Obesity_Type_III',\n",
              " 'Overweight_Level_I',\n",
              " 'Overweight_Level_II'}"
            ]
          },
          "metadata": {},
          "execution_count": 9
        }
      ]
    },
    {
      "cell_type": "code",
      "metadata": {
        "id": "Gc7aLTn0g5O3"
      },
      "source": [
        ""
      ],
      "id": "Gc7aLTn0g5O3",
      "execution_count": null,
      "outputs": []
    },
    {
      "cell_type": "markdown",
      "metadata": {
        "id": "QQY3nt7BQ-sS"
      },
      "source": [
        "## Bootstrap inference of Median\n",
        "\n",
        "We will perform a nonparametric inference of the median for the BMI variable.  The median of BMI is "
      ],
      "id": "QQY3nt7BQ-sS"
    },
    {
      "cell_type": "markdown",
      "metadata": {
        "id": "pO1-YFwqZ3_7"
      },
      "source": [
        "We'll perform a bootstrap sampling using a sample of 10% of the data size:"
      ],
      "id": "pO1-YFwqZ3_7"
    },
    {
      "cell_type": "code",
      "metadata": {
        "colab": {
          "base_uri": "https://localhost:8080/"
        },
        "id": "S_yQgeX4S6Ch",
        "outputId": "669f67f3-e7a1-45fd-9c02-4a0c8b827568"
      },
      "source": [
        "print('Data size = ',len(obesity))\n",
        "n = round(len(obesity) * 0.10)\n",
        "print('Sample size = ', n)\n"
      ],
      "id": "S_yQgeX4S6Ch",
      "execution_count": null,
      "outputs": [
        {
          "output_type": "stream",
          "name": "stdout",
          "text": [
            "Data size =  2111\n",
            "Sample size =  211\n"
          ]
        }
      ]
    },
    {
      "cell_type": "code",
      "metadata": {
        "colab": {
          "base_uri": "https://localhost:8080/",
          "height": 307
        },
        "id": "VXM6wV6hRXNh",
        "outputId": "6cfec68f-2d2d-40c7-ecf6-2feb3608b027"
      },
      "source": [
        "# initialize the sample list\n",
        "bmi_median_samples = []\n",
        "\n",
        "# perform bootstrap with numpy\n",
        "for i in range(5000):\n",
        "        boot_sample = np.random.choice(obesity['BMI'], n)\n",
        "        bmi_median_samples.append(np.median(boot_sample))\n",
        "        \n",
        "print(\"Numpy bootstrap median for BMI = \", np.mean(bmi_median_samples))\n",
        "\n",
        "conf_int = np.percentile(bmi_median_samples, [2.5, 97.5])\n",
        "print(\"95% CI for BMI median = \", conf_int)\n",
        "\n",
        "sns.kdeplot(bmi_median_samples)\n",
        "for endpoint in conf_int:\n",
        "    plt.axvline(endpoint, color='red')"
      ],
      "id": "VXM6wV6hRXNh",
      "execution_count": null,
      "outputs": [
        {
          "output_type": "stream",
          "name": "stdout",
          "text": [
            "Numpy bootstrap median for BMI =  28.87148799347237\n",
            "95% CI for BMI median =  [27.58102221 31.04769454]\n"
          ]
        },
        {
          "output_type": "display_data",
          "data": {
            "image/png": "[encoded data removed]",
            "text/plain": [
              "<Figure size 432x288 with 1 Axes>"
            ]
          },
          "metadata": {
            "needs_background": "light"
          }
        }
      ]
    },
    {
      "cell_type": "code",
      "metadata": {
        "colab": {
          "base_uri": "https://localhost:8080/",
          "height": 307
        },
        "id": "42qQinsQdun1",
        "outputId": "30d0b7ee-a551-49cf-d0fc-8ddbaaedd98f"
      },
      "source": [
        "from sklearn.utils import resample\n",
        "\n",
        "# perform bootstrap using sklean resample\n",
        "\n",
        "bmi_median_samples = []\n",
        "for i in range(5000):\n",
        "                boot_sample = resample(obesity['BMI'])           # does bootstrap; replace = True\n",
        "                bmi_median_samples.append(np.median(boot_sample))\n",
        "        \n",
        "print(\"resample bootstrap median for BMI = \", np.mean(bmi_median_samples))\n",
        "\n",
        "conf_int = np.percentile(bmi_median_samples, [2.5, 97.5])\n",
        "print(\"95% CI for BMI median = \", conf_int)\n",
        "\n",
        "sns.kdeplot(bmi_median_samples)\n",
        "for endpoint in conf_int:\n",
        "    plt.axvline(endpoint, color='red')"
      ],
      "id": "42qQinsQdun1",
      "execution_count": null,
      "outputs": [
        {
          "output_type": "stream",
          "name": "stdout",
          "text": [
            "resample bootstrap median for BMI =  28.7305785846369\n",
            "95% CI for BMI median =  [28.31354439 29.2557003 ]\n"
          ]
        },
        {
          "output_type": "display_data",
          "data": {
            "image/png": "[encoded data removed]",
            "text/plain": [
              "<Figure size 432x288 with 1 Axes>"
            ]
          },
          "metadata": {
            "needs_background": "light"
          }
        }
      ]
    }
  ]
}