{
  "nbformat": 4,
  "nbformat_minor": 5,
  "metadata": {
    "kernelspec": {
      "display_name": "Python 3",
      "language": "python",
      "name": "python3"
    },
    "language_info": {
      "codemirror_mode": {
        "name": "ipython",
        "version": 3
      },
      "file_extension": ".py",
      "mimetype": "text/x-python",
      "name": "python",
      "nbconvert_exporter": "python",
      "pygments_lexer": "ipython3",
      "version": "3.8.8"
    },
    "colab": {
      "name": "Data201_Project1_Obesity.ipynb",
      "provenance": [],
      "collapsed_sections": [],
      "include_colab_link": true
    }
  },
  "cells": [
    {
      "cell_type": "markdown",
      "metadata": {
        "id": "view-in-github",
        "colab_type": "text"
      },
      "source": [
        "<a href=\"https://colab.research.google.com/github/sopranomax/DataScienceClasses/blob/main/Data201_Project1_Obesity.ipynb\" target=\"_parent\"><img src=\"https://colab.research.google.com/assets/colab-badge.svg\" alt=\"Open In Colab\"/></a>"
      ]
    },
    {
      "cell_type": "markdown",
      "metadata": {
        "id": "34a0b4da"
      },
      "source": [
        "# Data 201 Project 1 Obesity Data\n",
        "### Marilyn Macy, Preethi Athota and Kris Sutton\n",
        "### November 4, 2021\n",
        "\n",
        "## Dataset - Estimation of obesity levels based on eating habits and physical condition\n",
        "### Source: UCI Machine Learning Repository\n",
        "#### https://archive-beta.ics.uci.edu/ml/datasets/estimation+of+obesity+levels+based+on+eating+habits+and+physical+condition\n",
        "\n",
        "Additional Source: Kaggle\n",
        "https://www.kaggle.com/pmrich/obesitydataset-eda-data-prep-ml-hypertuning\n",
        "\n",
        "\n",
        "### Dataset information\n",
        "\n",
        "The dataset includes data for the estimation of obesity levels in individuals from the countries of Mexico, Peru and Colombia, based on their eating habits and physical condition. The dataset was contributed to the UCI Machine Learning Repository on 2019-08-27.\n",
        "\n",
        "**Number of observations:** 2111\n",
        "\n",
        "**Number of variables:** 17\n",
        "\n",
        "**Data Dictionary:**  \n",
        "\n",
        "Category\t| Feature Name | Description | Variable Type\n",
        "--------- | ------------ | ------------ | -------------- \n",
        "Target Variable | NObesity | Based on BMI | Categorical\n",
        "Eating Habits |\tFAVC | Frequent consumption of high caloric food | Categorical \n",
        "Eating Habits |\tFCVC | Frequency of consumption of vegetables\t| Ordinal \n",
        "Eating Habits\t| NCP | Number of main meals | Ordinal\n",
        "Eating Habits\t| CAEC | Consumption of food between meals | Ordinal\n",
        "Eating Habits\t| CH20 | Consumption of water daily | Ordinal\n",
        "Eating Habits\t| CALC | Consumption of alcohol | Ordinal\n",
        "Physical Conditioning | SCC | Calories consumption monitoring | Categorical\n",
        "Physical Conditioning | FAF\t| Pysical activity frequency | Ordinal\n",
        "Physical Conditioning | TUE\t| Time using technology devices | Ordinal\n",
        "Physical Conditioning | MTRANS | Transportation used | Categorical\n",
        "Physical Conditioning | SMOKE |\tSmokes Yes or No | Categorical\n",
        "Responder Characteristics | Family History with Overweight | Yes or No | Categorical\n",
        "Responder Charateristics | Gender | Male or Female | Categorical\n",
        "Responder Charateristics | Age | Age in years | Integer\n",
        "Responder Charateristics | Height | Height in meters | Float\n",
        "Responder Charateristics | Weight | Weight in kilograms | Float\n",
        "\n",
        "## Project 1 Questions\n",
        "\n",
        "1. Is BMI distribution approximately normal? For males? For females?\n",
        "2. Is there a relationship between transportation method and obesity?\n",
        "3. Is there a relationship between family history with overweight and obesity? \n",
        "\n"
      ],
      "id": "34a0b4da"
    },
    {
      "cell_type": "code",
      "metadata": {
        "id": "70c0b772"
      },
      "source": [
        "# import pandas alias pd\n",
        "import pandas as pd\n",
        "\n",
        "# import numpy alias np\n",
        "import numpy as np\n",
        "\n",
        "# import matplotlib and pyplot\n",
        "import matplotlib as mpl\n",
        "import matplotlib.pyplot as plt\n",
        "plt.style.use('classic')"
      ],
      "id": "70c0b772",
      "execution_count": 1,
      "outputs": []
    },
    {
      "cell_type": "code",
      "metadata": {
        "id": "a_SpOKJQd4cm",
        "colab": {
          "base_uri": "https://localhost:8080/",
          "height": 204
        },
        "outputId": "24f4929e-0d42-49b4-c621-8c8c528897ba"
      },
      "source": [
        "# read obesity dataset\n",
        "o_data = pd.read_csv('/content/sample_data/ObesityDataSet_raw_and_data_sinthetic.csv')\n",
        "#o_data = pd.read_csv('https://github.com/sopranomax/DataScienceClasses/blob/main/ObesityDataSet_raw_and_data_sinthetic.csv')\n",
        "o_data.head()\n"
      ],
      "id": "a_SpOKJQd4cm",
      "execution_count": 4,
      "outputs": [
        {
          "output_type": "execute_result",
          "data": {
            "text/html": [
              "<div>\n",
              "<style scoped>\n",
              "    .dataframe tbody tr th:only-of-type {\n",
              "        vertical-align: middle;\n",
              "    }\n",
              "\n",
              "    .dataframe tbody tr th {\n",
              "        vertical-align: top;\n",
              "    }\n",
              "\n",
              "    .dataframe thead th {\n",
              "        text-align: right;\n",
              "    }\n",
              "</style>\n",
              "<table border=\"1\" class=\"dataframe\">\n",
              "  <thead>\n",
              "    <tr style=\"text-align: right;\">\n",
              "      <th></th>\n",
              "      <th>Gender</th>\n",
              "      <th>Age</th>\n",
              "      <th>Height</th>\n",
              "      <th>Weight</th>\n",
              "      <th>family_history_with_overweight</th>\n",
              "      <th>FAVC</th>\n",
              "      <th>FCVC</th>\n",
              "      <th>NCP</th>\n",
              "      <th>CAEC</th>\n",
              "      <th>SMOKE</th>\n",
              "      <th>CH2O</th>\n",
              "      <th>SCC</th>\n",
              "      <th>FAF</th>\n",
              "      <th>TUE</th>\n",
              "      <th>CALC</th>\n",
              "      <th>MTRANS</th>\n",
              "      <th>NObeyesdad</th>\n",
              "    </tr>\n",
              "  </thead>\n",
              "  <tbody>\n",
              "    <tr>\n",
              "      <th>0</th>\n",
              "      <td>Female</td>\n",
              "      <td>21.0</td>\n",
              "      <td>1.62</td>\n",
              "      <td>64.0</td>\n",
              "      <td>yes</td>\n",
              "      <td>no</td>\n",
              "      <td>2.0</td>\n",
              "      <td>3.0</td>\n",
              "      <td>Sometimes</td>\n",
              "      <td>no</td>\n",
              "      <td>2.0</td>\n",
              "      <td>no</td>\n",
              "      <td>0.0</td>\n",
              "      <td>1.0</td>\n",
              "      <td>no</td>\n",
              "      <td>Public_Transportation</td>\n",
              "      <td>Normal_Weight</td>\n",
              "    </tr>\n",
              "    <tr>\n",
              "      <th>1</th>\n",
              "      <td>Female</td>\n",
              "      <td>21.0</td>\n",
              "      <td>1.52</td>\n",
              "      <td>56.0</td>\n",
              "      <td>yes</td>\n",
              "      <td>no</td>\n",
              "      <td>3.0</td>\n",
              "      <td>3.0</td>\n",
              "      <td>Sometimes</td>\n",
              "      <td>yes</td>\n",
              "      <td>3.0</td>\n",
              "      <td>yes</td>\n",
              "      <td>3.0</td>\n",
              "      <td>0.0</td>\n",
              "      <td>Sometimes</td>\n",
              "      <td>Public_Transportation</td>\n",
              "      <td>Normal_Weight</td>\n",
              "    </tr>\n",
              "    <tr>\n",
              "      <th>2</th>\n",
              "      <td>Male</td>\n",
              "      <td>23.0</td>\n",
              "      <td>1.80</td>\n",
              "      <td>77.0</td>\n",
              "      <td>yes</td>\n",
              "      <td>no</td>\n",
              "      <td>2.0</td>\n",
              "      <td>3.0</td>\n",
              "      <td>Sometimes</td>\n",
              "      <td>no</td>\n",
              "      <td>2.0</td>\n",
              "      <td>no</td>\n",
              "      <td>2.0</td>\n",
              "      <td>1.0</td>\n",
              "      <td>Frequently</td>\n",
              "      <td>Public_Transportation</td>\n",
              "      <td>Normal_Weight</td>\n",
              "    </tr>\n",
              "    <tr>\n",
              "      <th>3</th>\n",
              "      <td>Male</td>\n",
              "      <td>27.0</td>\n",
              "      <td>1.80</td>\n",
              "      <td>87.0</td>\n",
              "      <td>no</td>\n",
              "      <td>no</td>\n",
              "      <td>3.0</td>\n",
              "      <td>3.0</td>\n",
              "      <td>Sometimes</td>\n",
              "      <td>no</td>\n",
              "      <td>2.0</td>\n",
              "      <td>no</td>\n",
              "      <td>2.0</td>\n",
              "      <td>0.0</td>\n",
              "      <td>Frequently</td>\n",
              "      <td>Walking</td>\n",
              "      <td>Overweight_Level_I</td>\n",
              "    </tr>\n",
              "    <tr>\n",
              "      <th>4</th>\n",
              "      <td>Male</td>\n",
              "      <td>22.0</td>\n",
              "      <td>1.78</td>\n",
              "      <td>89.8</td>\n",
              "      <td>no</td>\n",
              "      <td>no</td>\n",
              "      <td>2.0</td>\n",
              "      <td>1.0</td>\n",
              "      <td>Sometimes</td>\n",
              "      <td>no</td>\n",
              "      <td>2.0</td>\n",
              "      <td>no</td>\n",
              "      <td>0.0</td>\n",
              "      <td>0.0</td>\n",
              "      <td>Sometimes</td>\n",
              "      <td>Public_Transportation</td>\n",
              "      <td>Overweight_Level_II</td>\n",
              "    </tr>\n",
              "  </tbody>\n",
              "</table>\n",
              "</div>"
            ],
            "text/plain": [
              "   Gender   Age  Height  ...        CALC                 MTRANS           NObeyesdad\n",
              "0  Female  21.0    1.62  ...          no  Public_Transportation        Normal_Weight\n",
              "1  Female  21.0    1.52  ...   Sometimes  Public_Transportation        Normal_Weight\n",
              "2    Male  23.0    1.80  ...  Frequently  Public_Transportation        Normal_Weight\n",
              "3    Male  27.0    1.80  ...  Frequently                Walking   Overweight_Level_I\n",
              "4    Male  22.0    1.78  ...   Sometimes  Public_Transportation  Overweight_Level_II\n",
              "\n",
              "[5 rows x 17 columns]"
            ]
          },
          "metadata": {},
          "execution_count": 4
        }
      ]
    },
    {
      "cell_type": "markdown",
      "metadata": {
        "id": "VGbSEU2FkGqB"
      },
      "source": [
        "Body Mass Index (BMI) = $weight (kg)$ / $(height (m))^2$"
      ],
      "id": "VGbSEU2FkGqB"
    },
    {
      "cell_type": "code",
      "metadata": {
        "colab": {
          "base_uri": "https://localhost:8080/",
          "height": 204
        },
        "id": "uUFyqRWDiwpw",
        "outputId": "cbd25295-dd60-4704-c872-b64e2ad6b4fd"
      },
      "source": [
        "# create BMI column\n",
        "o_data['BMI'] = o_data['Weight'] / o_data['Height'] ** 2\n",
        "o_data.head()"
      ],
      "id": "uUFyqRWDiwpw",
      "execution_count": 6,
      "outputs": [
        {
          "output_type": "execute_result",
          "data": {
            "text/html": [
              "<div>\n",
              "<style scoped>\n",
              "    .dataframe tbody tr th:only-of-type {\n",
              "        vertical-align: middle;\n",
              "    }\n",
              "\n",
              "    .dataframe tbody tr th {\n",
              "        vertical-align: top;\n",
              "    }\n",
              "\n",
              "    .dataframe thead th {\n",
              "        text-align: right;\n",
              "    }\n",
              "</style>\n",
              "<table border=\"1\" class=\"dataframe\">\n",
              "  <thead>\n",
              "    <tr style=\"text-align: right;\">\n",
              "      <th></th>\n",
              "      <th>Gender</th>\n",
              "      <th>Age</th>\n",
              "      <th>Height</th>\n",
              "      <th>Weight</th>\n",
              "      <th>family_history_with_overweight</th>\n",
              "      <th>FAVC</th>\n",
              "      <th>FCVC</th>\n",
              "      <th>NCP</th>\n",
              "      <th>CAEC</th>\n",
              "      <th>SMOKE</th>\n",
              "      <th>CH2O</th>\n",
              "      <th>SCC</th>\n",
              "      <th>FAF</th>\n",
              "      <th>TUE</th>\n",
              "      <th>CALC</th>\n",
              "      <th>MTRANS</th>\n",
              "      <th>NObeyesdad</th>\n",
              "      <th>BMI</th>\n",
              "    </tr>\n",
              "  </thead>\n",
              "  <tbody>\n",
              "    <tr>\n",
              "      <th>0</th>\n",
              "      <td>Female</td>\n",
              "      <td>21.0</td>\n",
              "      <td>1.62</td>\n",
              "      <td>64.0</td>\n",
              "      <td>yes</td>\n",
              "      <td>no</td>\n",
              "      <td>2.0</td>\n",
              "      <td>3.0</td>\n",
              "      <td>Sometimes</td>\n",
              "      <td>no</td>\n",
              "      <td>2.0</td>\n",
              "      <td>no</td>\n",
              "      <td>0.0</td>\n",
              "      <td>1.0</td>\n",
              "      <td>no</td>\n",
              "      <td>Public_Transportation</td>\n",
              "      <td>Normal_Weight</td>\n",
              "      <td>24.386526</td>\n",
              "    </tr>\n",
              "    <tr>\n",
              "      <th>1</th>\n",
              "      <td>Female</td>\n",
              "      <td>21.0</td>\n",
              "      <td>1.52</td>\n",
              "      <td>56.0</td>\n",
              "      <td>yes</td>\n",
              "      <td>no</td>\n",
              "      <td>3.0</td>\n",
              "      <td>3.0</td>\n",
              "      <td>Sometimes</td>\n",
              "      <td>yes</td>\n",
              "      <td>3.0</td>\n",
              "      <td>yes</td>\n",
              "      <td>3.0</td>\n",
              "      <td>0.0</td>\n",
              "      <td>Sometimes</td>\n",
              "      <td>Public_Transportation</td>\n",
              "      <td>Normal_Weight</td>\n",
              "      <td>24.238227</td>\n",
              "    </tr>\n",
              "    <tr>\n",
              "      <th>2</th>\n",
              "      <td>Male</td>\n",
              "      <td>23.0</td>\n",
              "      <td>1.80</td>\n",
              "      <td>77.0</td>\n",
              "      <td>yes</td>\n",
              "      <td>no</td>\n",
              "      <td>2.0</td>\n",
              "      <td>3.0</td>\n",
              "      <td>Sometimes</td>\n",
              "      <td>no</td>\n",
              "      <td>2.0</td>\n",
              "      <td>no</td>\n",
              "      <td>2.0</td>\n",
              "      <td>1.0</td>\n",
              "      <td>Frequently</td>\n",
              "      <td>Public_Transportation</td>\n",
              "      <td>Normal_Weight</td>\n",
              "      <td>23.765432</td>\n",
              "    </tr>\n",
              "    <tr>\n",
              "      <th>3</th>\n",
              "      <td>Male</td>\n",
              "      <td>27.0</td>\n",
              "      <td>1.80</td>\n",
              "      <td>87.0</td>\n",
              "      <td>no</td>\n",
              "      <td>no</td>\n",
              "      <td>3.0</td>\n",
              "      <td>3.0</td>\n",
              "      <td>Sometimes</td>\n",
              "      <td>no</td>\n",
              "      <td>2.0</td>\n",
              "      <td>no</td>\n",
              "      <td>2.0</td>\n",
              "      <td>0.0</td>\n",
              "      <td>Frequently</td>\n",
              "      <td>Walking</td>\n",
              "      <td>Overweight_Level_I</td>\n",
              "      <td>26.851852</td>\n",
              "    </tr>\n",
              "    <tr>\n",
              "      <th>4</th>\n",
              "      <td>Male</td>\n",
              "      <td>22.0</td>\n",
              "      <td>1.78</td>\n",
              "      <td>89.8</td>\n",
              "      <td>no</td>\n",
              "      <td>no</td>\n",
              "      <td>2.0</td>\n",
              "      <td>1.0</td>\n",
              "      <td>Sometimes</td>\n",
              "      <td>no</td>\n",
              "      <td>2.0</td>\n",
              "      <td>no</td>\n",
              "      <td>0.0</td>\n",
              "      <td>0.0</td>\n",
              "      <td>Sometimes</td>\n",
              "      <td>Public_Transportation</td>\n",
              "      <td>Overweight_Level_II</td>\n",
              "      <td>28.342381</td>\n",
              "    </tr>\n",
              "  </tbody>\n",
              "</table>\n",
              "</div>"
            ],
            "text/plain": [
              "   Gender   Age  Height  ...                 MTRANS           NObeyesdad        BMI\n",
              "0  Female  21.0    1.62  ...  Public_Transportation        Normal_Weight  24.386526\n",
              "1  Female  21.0    1.52  ...  Public_Transportation        Normal_Weight  24.238227\n",
              "2    Male  23.0    1.80  ...  Public_Transportation        Normal_Weight  23.765432\n",
              "3    Male  27.0    1.80  ...                Walking   Overweight_Level_I  26.851852\n",
              "4    Male  22.0    1.78  ...  Public_Transportation  Overweight_Level_II  28.342381\n",
              "\n",
              "[5 rows x 18 columns]"
            ]
          },
          "metadata": {},
          "execution_count": 6
        }
      ]
    },
    {
      "cell_type": "markdown",
      "metadata": {
        "id": "00v5Fy09mE3K"
      },
      "source": [
        "WHO Weight categories: https://github.com/sopranomax/DataScienceClasses/blob/main/WHO_Obesity_Categories.jpg\n",
        "\n",
        "source: https://apps.who.int/iris/bitstream/handle/10665/43190/9241593024_eng.pdf\n",
        "\n",
        "What are the obesity categories in the dataset?\n",
        "\n",
        "What are the ranges for the obesity categories in the dataset?\n",
        "\n"
      ],
      "id": "00v5Fy09mE3K"
    },
    {
      "cell_type": "code",
      "metadata": {
        "colab": {
          "base_uri": "https://localhost:8080/"
        },
        "id": "CUVppD6OmKcp",
        "outputId": "5e387610-2aff-42d7-d590-1a95db6da018"
      },
      "source": [
        "# look at the obesity categories in the dataset\n",
        "o_cats = set(o_data['NObeyesdad'])\n",
        "o_cats\n",
        "o_ranges = np.array(o_cats, )"
      ],
      "id": "CUVppD6OmKcp",
      "execution_count": null,
      "outputs": [
        {
          "output_type": "execute_result",
          "data": {
            "text/plain": [
              "{'Insufficient_Weight',\n",
              " 'Normal_Weight',\n",
              " 'Obesity_Type_I',\n",
              " 'Obesity_Type_II',\n",
              " 'Obesity_Type_III',\n",
              " 'Overweight_Level_I',\n",
              " 'Overweight_Level_II'}"
            ]
          },
          "metadata": {},
          "execution_count": 9
        }
      ]
    },
    {
      "cell_type": "markdown",
      "metadata": {
        "id": "QQY3nt7BQ-sS"
      },
      "source": [
        "## Bootstrap inference of Median\n",
        "\n",
        "We will perform a nonparametric inference of the median for the BMI variable.  The median of BMI is "
      ],
      "id": "QQY3nt7BQ-sS"
    },
    {
      "cell_type": "code",
      "metadata": {
        "id": "Ic_5pZXOZs7M",
        "outputId": "0b8939c9-51ce-482f-a7b3-a82ca34cac1d",
        "colab": {
          "base_uri": "https://localhost:8080/",
          "height": 305
        }
      },
      "source": [
        "import seaborn as sns\n",
        "sns.kdeplot(o_data['BMI'])\n",
        "\n",
        "np.median(o_data['BMI'])"
      ],
      "id": "Ic_5pZXOZs7M",
      "execution_count": 27,
      "outputs": [
        {
          "output_type": "execute_result",
          "data": {
            "text/plain": [
              "28.71908906003529"
            ]
          },
          "metadata": {},
          "execution_count": 27
        },
        {
          "output_type": "display_data",
          "data": {
            "image/png": "[encoded data removed]",
            "text/plain": [
              "<Figure size 432x288 with 1 Axes>"
            ]
          },
          "metadata": {
            "needs_background": "light"
          }
        }
      ]
    },
    {
      "cell_type": "markdown",
      "metadata": {
        "id": "pO1-YFwqZ3_7"
      },
      "source": [
        "We'll perform a bootstrap sampling using a sample of 10% of the data size:"
      ],
      "id": "pO1-YFwqZ3_7"
    },
    {
      "cell_type": "code",
      "metadata": {
        "id": "S_yQgeX4S6Ch",
        "outputId": "669f67f3-e7a1-45fd-9c02-4a0c8b827568",
        "colab": {
          "base_uri": "https://localhost:8080/"
        }
      },
      "source": [
        "print('Data size = ',len(o_data))\n",
        "n = round(len(o_data) * 0.10)\n",
        "print('Sample size = ', n)\n"
      ],
      "id": "S_yQgeX4S6Ch",
      "execution_count": 24,
      "outputs": [
        {
          "output_type": "stream",
          "name": "stdout",
          "text": [
            "Data size =  2111\n",
            "Sample size =  211\n"
          ]
        }
      ]
    },
    {
      "cell_type": "code",
      "metadata": {
        "id": "VXM6wV6hRXNh",
        "outputId": "6cfec68f-2d2d-40c7-ecf6-2feb3608b027",
        "colab": {
          "base_uri": "https://localhost:8080/",
          "height": 307
        }
      },
      "source": [
        "# initialize the sample list\n",
        "bmi_median_samples = []\n",
        "\n",
        "# perform bootstrap with numpy\n",
        "for i in range(5000):\n",
        "        boot_sample = np.random.choice(o_data['BMI'], n)\n",
        "        bmi_median_samples.append(np.median(boot_sample))\n",
        "        \n",
        "print(\"Numpy bootstrap median for BMI = \", np.mean(bmi_median_samples))\n",
        "\n",
        "conf_int = np.percentile(bmi_median_samples, [2.5, 97.5])\n",
        "print(\"95% CI for BMI median = \", conf_int)\n",
        "\n",
        "sns.kdeplot(bmi_median_samples)\n",
        "for endpoint in conf_int:\n",
        "    plt.axvline(endpoint, color='red')"
      ],
      "id": "VXM6wV6hRXNh",
      "execution_count": 33,
      "outputs": [
        {
          "output_type": "stream",
          "name": "stdout",
          "text": [
            "Numpy bootstrap median for BMI =  28.87148799347237\n",
            "95% CI for BMI median =  [27.58102221 31.04769454]\n"
          ]
        },
        {
          "output_type": "display_data",
          "data": {
            "image/png": "[encoded data removed]",
            "text/plain": [
              "<Figure size 432x288 with 1 Axes>"
            ]
          },
          "metadata": {
            "needs_background": "light"
          }
        }
      ]
    },
    {
      "cell_type": "code",
      "metadata": {
        "id": "42qQinsQdun1",
        "outputId": "e9f0ac8f-edee-4775-8ba2-636590fceebb",
        "colab": {
          "base_uri": "https://localhost:8080/",
          "height": 307
        }
      },
      "source": [
        "from sklearn.utils import resample\n",
        "\n",
        "# perform bootstrap using sklean resample\n",
        "\n",
        "bmi_median_samples = []\n",
        "for i in range(5000):\n",
        "                boot_sample = resample(o_data['BMI'])           # does bootstrap; replace = True\n",
        "                bmi_median_samples.append(boot_sample.mean())\n",
        "        \n",
        "print(\"resample bootstrap median for BMI = \", np.mean(bmi_median_samples))\n",
        "\n",
        "conf_int = np.percentile(bmi_median_samples, [2.5, 97.5])\n",
        "print(\"95% CI for BMI median = \", conf_int)\n",
        "\n",
        "sns.kdeplot(bmi_median_samples)\n",
        "for endpoint in conf_int:\n",
        "    plt.axvline(endpoint, color='red')"
      ],
      "id": "42qQinsQdun1",
      "execution_count": 34,
      "outputs": [
        {
          "output_type": "stream",
          "name": "stdout",
          "text": [
            "resample bootstrap median for BMI =  29.702152899495648\n",
            "95% CI for BMI median =  [29.36748773 30.03543972]\n"
          ]
        },
        {
          "output_type": "display_data",
          "data": {
            "image/png": "[encoded data removed]",
            "text/plain": [
              "<Figure size 432x288 with 1 Axes>"
            ]
          },
          "metadata": {
            "needs_background": "light"
          }
        }
      ]
    }
  ]
}