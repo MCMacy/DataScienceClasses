{
  "cells": [
    {
      "cell_type": "markdown",
      "metadata": {
        "id": "view-in-github",
        "colab_type": "text"
      },
      "source": [
        "<a href=\"https://colab.research.google.com/github/sopranomax/DataScienceClasses/blob/main/AA_Review_Final.ipynb\" target=\"_parent\"><img src=\"https://colab.research.google.com/assets/colab-badge.svg\" alt=\"Open In Colab\"/></a>"
      ]
    },
    {
      "cell_type": "markdown",
      "metadata": {
        "id": "xycKPcdnLNjI"
      },
      "source": [
        "* Supervised Learning\n",
        "  + provide input features -> X and corresponding output / target labels -> y     \n",
        "  + algorithm learns the underlying relationship from the model (train)\n",
        "  + algorithm can predict response output from new input (test)\n",
        "\n",
        "* *CART - Classification and Regression Tree* (from DataCamp)\n",
        "  + *Objective: infer class labels*\n",
        "  + *can capture non-linear relationships between features*\n",
        "  + *don't require feature scaling*\n",
        "\n",
        "* Regression - continuous variable, Linear Regression\n",
        "\n",
        "* Classification - categorical variable (binary or multi-class), Logistic Regression\n",
        "\n",
        "* Decision Tree - graph with nodes and edges, Regression (DecisionTreeRegressor) and Classification (DecisionTreeClassifier)\n"
      ]
    },
    {
      "cell_type": "code",
      "execution_count": null,
      "metadata": {
        "id": "CtKeuf9OxY7L"
      },
      "outputs": [],
      "source": [
        "from sklearn.tree import DecisionTreeClassifier\n",
        "from sklearn.model_selection import train_test_split\n",
        "from sklearn.metrics import accuracy_score\n",
        "import numpy as np\n",
        "import pandas as pd\n",
        "import xgboost as xgb\n",
        "from sklearn.metrics import mean_squared_error as MSE"
      ]
    },
    {
      "cell_type": "code",
      "execution_count": null,
      "metadata": {
        "id": "fiJlFwfqxY7Q"
      },
      "outputs": [],
      "source": [
        "# Decision Tree Classifier\n",
        "UCI_data_URL = 'https://archive.ics.uci.edu/ml/machine-learning-databases/breast-cancer-wisconsin/wdbc.data'\n",
        "\n",
        "names = ['id_number', 'diagnosis', 'radius_mean', \n",
        "         'texture_mean', 'perimeter_mean', 'area_mean', \n",
        "         'smoothness_mean', 'compactness_mean', 'concavity_mean',\n",
        "         'concave_points_mean', 'symmetry_mean', \n",
        "         'fractal_dimension_mean', 'radius_se', 'texture_se', \n",
        "         'perimeter_se', 'area_se', 'smoothness_se', \n",
        "         'compactness_se', 'concavity_se', 'concave_points_se', \n",
        "         'symmetry_se', 'fractal_dimension_se', \n",
        "         'radius_worst', 'texture_worst', 'perimeter_worst',\n",
        "         'area_worst', 'smoothness_worst', \n",
        "         'compactness_worst', 'concavity_worst', \n",
        "         'concave_points_worst', 'symmetry_worst', \n",
        "         'fractal_dimension_worst'] \n",
        "\n",
        "data = pd.read_csv(UCI_data_URL, names=names)\n",
        "\n"
      ]
    },
    {
      "cell_type": "code",
      "execution_count": null,
      "metadata": {
        "colab": {
          "base_uri": "https://localhost:8080/"
        },
        "id": "rNAYk6tx3CDG",
        "outputId": "7c6e804f-87be-4c6f-ee44-275a9d0150b5"
      },
      "outputs": [
        {
          "output_type": "execute_result",
          "data": {
            "text/plain": [
              "(569, 32)"
            ]
          },
          "metadata": {},
          "execution_count": 9
        }
      ],
      "source": [
        "data.head()\n",
        "data.shape"
      ]
    },
    {
      "cell_type": "code",
      "execution_count": null,
      "metadata": {
        "id": "feCa-78qxY7V",
        "colab": {
          "base_uri": "https://localhost:8080/"
        },
        "outputId": "97ad5205-b95c-4650-d8ca-9093b36b17ad"
      },
      "outputs": [
        {
          "output_type": "execute_result",
          "data": {
            "text/plain": [
              "0    1\n",
              "1    1\n",
              "2    1\n",
              "3    1\n",
              "4    1\n",
              "5    1\n",
              "6    1\n",
              "7    1\n",
              "8    1\n",
              "9    1\n",
              "Name: diagnosis, dtype: int64"
            ]
          },
          "metadata": {},
          "execution_count": 10
        }
      ],
      "source": [
        "X = data.drop(['id_number', 'diagnosis'], axis=1)\n",
        "y = data['diagnosis']\n",
        "X.head()\n",
        "y[0:10]\n",
        "y = data['diagnosis'].map({'M':1, 'B':0})\n",
        "y[0:10]\n",
        "# Encode target variable benign = 0, malignant =1"
      ]
    },
    {
      "cell_type": "markdown",
      "metadata": {
        "id": "2w6IOHUD2s4m"
      },
      "source": [
        "* Decision Criteria\n",
        "  + starts at the root node, data is split based on one of the features\n",
        "  + criteria \"gini\" and \"entropy\" measure the degree of class purity\n",
        "     + Entropy = - Σ*p*(x)log*p*(x), *p*(x) = fraction of examples in given class\n",
        "  + start with high entropy (\"disorder\") of a heterogenous data set. We \n",
        "  + split the data to reduce entropy and gain information\n",
        "     + the child nodes have more homogenous data\n",
        "  + final nodes are the leaves without children\n",
        "  + in classification - majority vote decides which class the leaf node represents\n",
        "  + in regression - average of values is the predicted value\n",
        "\n",
        "<img src=\"https://cdn.analyticsvidhya.com/wp-content/uploads/2020/06/ns1.png\">\n",
        "\n"
      ]
    },
    {
      "cell_type": "code",
      "execution_count": null,
      "metadata": {
        "id": "nWkm8efbxY7h",
        "colab": {
          "base_uri": "https://localhost:8080/"
        },
        "outputId": "34a1d5c4-af02-45f6-cb66-21bfb18e24d1"
      },
      "outputs": [
        {
          "output_type": "execute_result",
          "data": {
            "text/plain": [
              "0.9210526315789473"
            ]
          },
          "metadata": {},
          "execution_count": 11
        }
      ],
      "source": [
        "# split data into train & test, input & response\n",
        "X_train, X_test, y_train, y_test= train_test_split(X, y,test_size=0.2,random_state=99)\n",
        "\n",
        "clf = DecisionTreeClassifier(criterion='entropy', random_state=99)\n",
        "\n",
        "clf.fit(X_train,y_train)\n",
        "y_pred= clf.predict(X_test)\n",
        "accuracy_score(y_test, y_pred)"
      ]
    },
    {
      "cell_type": "code",
      "execution_count": null,
      "metadata": {
        "id": "kZwWvf_gxY7m"
      },
      "outputs": [],
      "source": [
        ""
      ]
    },
    {
      "cell_type": "code",
      "execution_count": null,
      "metadata": {
        "colab": {
          "base_uri": "https://localhost:8080/"
        },
        "id": "bEHwPnav0Uuk",
        "outputId": "1e0c9752-74af-496f-f010-ff10c4d8ecfd"
      },
      "outputs": [
        {
          "output_type": "execute_result",
          "data": {
            "text/plain": [
              "0.9210526315789473"
            ]
          },
          "metadata": {},
          "execution_count": 12
        }
      ],
      "source": [
        "accuracy = float(np.sum(y_pred==y_test))/y_test.shape[0]\n",
        "accuracy"
      ]
    },
    {
      "cell_type": "code",
      "execution_count": null,
      "metadata": {
        "id": "hMSacrnw8i47",
        "colab": {
          "base_uri": "https://localhost:8080/",
          "height": 683
        },
        "outputId": "2fff57df-3656-43d3-e505-cd29a1d4b947"
      },
      "outputs": [
        {
          "output_type": "display_data",
          "data": {
            "image/png": "[encoded data removed]",
            "text/plain": [
              "<Figure size 864x864 with 1 Axes>"
            ]
          },
          "metadata": {
            "needs_background": "light"
          }
        }
      ],
      "source": [
        "# Decision Tree plot\n",
        "\n",
        "from sklearn import tree\n",
        "import matplotlib.pyplot as plt\n",
        "\n",
        "fig, ax = plt.subplots(figsize=(12, 12))\n",
        "tree.plot_tree(decision_tree=clf, max_depth= 3,fontsize=12);"
      ]
    },
    {
      "cell_type": "markdown",
      "metadata": {
        "id": "DMjE-BbiSjbq"
      },
      "source": [
        "* Ensemble Methods\n",
        "  + The Wisdom of the Crowd: Ask each of your friends to guess the price of an item. The average of their guesses is closer to the true price than each of the individual guesses.\n",
        "  + use multiple learning algorithms to obtain better predictive performance than could be obtained from any of the constituent learning algorithms alone\n"
      ]
    },
    {
      "cell_type": "markdown",
      "metadata": {
        "id": "eakFf8v4WGEk"
      },
      "source": [
        "* **Randomforest** - Random forests or random decision forests \n",
        "  + ensemble learning method for classification, regression and other tasks \n",
        "  + constructing multitude of decision trees at training time\n",
        "  + Each tree splits a random subset of the features\n",
        "  + output the class that is the mode of the classes (classification) or \n",
        "  + mean/average prediction (regression) of the individual trees\n"
      ]
    },
    {
      "cell_type": "code",
      "execution_count": null,
      "metadata": {
        "colab": {
          "base_uri": "https://localhost:8080/"
        },
        "id": "icP7iXYuL3rP",
        "outputId": "af7d54f4-7f97-4526-db68-08d7999d84da"
      },
      "outputs": [
        {
          "output_type": "stream",
          "name": "stdout",
          "text": [
            "accuracy: 0.956140\n"
          ]
        }
      ],
      "source": [
        "from sklearn.ensemble import RandomForestClassifier\n",
        "rf_cl = RandomForestClassifier(n_estimators=100,\n",
        "                            random_state=11)\n",
        "rf_cl.fit(X_train, y_train)\n",
        "rf_pred= rf_cl.predict(X_test)\n",
        "accuracy = float(np.sum(rf_pred==y_test))/y_test.shape[0]\n",
        "print(\"accuracy: %f\" % (accuracy))\n"
      ]
    },
    {
      "cell_type": "markdown",
      "metadata": {
        "id": "wnTd1wmAWUAd"
      },
      "source": [
        "* **Boosting** - ensemble method that changes a set of weak learners into strong learners\n",
        "  + errors of the previous learner are given more weight and become the focus of the next learner\n",
        "\n",
        "* **XGBoost** - optimized distributed gradient boosting library,implements machine learning algorithms under the Gradient Boosting framework. "
      ]
    },
    {
      "cell_type": "code",
      "execution_count": null,
      "metadata": {
        "colab": {
          "base_uri": "https://localhost:8080/"
        },
        "id": "yms7muvoxY70",
        "outputId": "5e8a83a8-0985-4d9b-fb8e-8b8134c2e5b2"
      },
      "outputs": [
        {
          "output_type": "stream",
          "name": "stdout",
          "text": [
            "accuracy: 0.947368\n"
          ]
        }
      ],
      "source": [
        "xg_cl = xgb.XGBClassifier(objective='binary:logistic', max_depth=10, n_estimators=20, seed=99) \n",
        "xg_cl.fit(X_train, y_train)\n",
        "preds = xg_cl.predict(X_test)\n",
        "accuracy = float(np.sum(preds==y_test))/y_test.shape[0]\n",
        "print(\"accuracy: %f\" % (accuracy))\n"
      ]
    },
    {
      "cell_type": "markdown",
      "metadata": {
        "id": "2z3Gu5AgLLqv"
      },
      "source": [
        "* Cross-Validation - method of rotating training and test subsets of the data\n",
        "  + algorithm is more robust when it comes to generalizations i.e. testing on unseen data\n",
        "\n",
        "<img src=\"https://www.researchgate.net/publication/326465007/figure/fig1/AS:649909518757888@1531961912055/Ten-fold-cross-validation-diagram-The-dataset-was-divided-into-ten-parts-and-nine-of.png\">"
      ]
    },
    {
      "cell_type": "code",
      "execution_count": null,
      "metadata": {
        "colab": {
          "base_uri": "https://localhost:8080/"
        },
        "id": "zChalseoGvUZ",
        "outputId": "ed9207bf-58c4-4351-c28a-0dc5a0fe0d9b"
      },
      "outputs": [
        {
          "output_type": "stream",
          "name": "stdout",
          "text": [
            "Accuracy: 0.952502\n"
          ]
        }
      ],
      "source": [
        "#DMatrix is a internal data structure that used is by XGBoost \n",
        "# which is optimized for both memory efficiency and training speed\n",
        "data_dmatrix = xgb.DMatrix(data=X,label=y) \n",
        "params={\"objective\":\"binary:logistic\",\"max_depth\":4}\n",
        "cv_results = xgb.cv(dtrain=data_dmatrix, params=params, nfold=4,num_boost_round=10, metrics=\"error\", as_pandas=True) \n",
        "print(\"Accuracy: %f\" %((1-cv_results[\"test-error-mean\"]).iloc[-1]))"
      ]
    },
    {
      "cell_type": "code",
      "execution_count": null,
      "metadata": {
        "id": "SznRQZ-RxY7s",
        "colab": {
          "base_uri": "https://localhost:8080/"
        },
        "outputId": "f60983d4-81fc-4d04-e692-0dc23fbd508d"
      },
      "outputs": [
        {
          "output_type": "stream",
          "name": "stderr",
          "text": [
            "/usr/local/lib/python3.7/dist-packages/sklearn/utils/deprecation.py:87: FutureWarning: Function load_boston is deprecated; `load_boston` is deprecated in 1.0 and will be removed in 1.2.\n",
            "\n",
            "    The Boston housing prices dataset has an ethical problem. You can refer to\n",
            "    the documentation of this function for further details.\n",
            "\n",
            "    The scikit-learn maintainers therefore strongly discourage the use of this\n",
            "    dataset unless the purpose of the code is to study and educate about\n",
            "    ethical issues in data science and machine learning.\n",
            "\n",
            "    In this special case, you can fetch the dataset from the original\n",
            "    source::\n",
            "\n",
            "        import pandas as pd\n",
            "        import numpy as np\n",
            "\n",
            "\n",
            "        data_url = \"http://lib.stat.cmu.edu/datasets/boston\"\n",
            "        raw_df = pd.read_csv(data_url, sep=\"\\s+\", skiprows=22, header=None)\n",
            "        data = np.hstack([raw_df.values[::2, :], raw_df.values[1::2, :2]])\n",
            "        target = raw_df.values[1::2, 2]\n",
            "\n",
            "    Alternative datasets include the California housing dataset (i.e.\n",
            "    :func:`~sklearn.datasets.fetch_california_housing`) and the Ames housing\n",
            "    dataset. You can load the datasets as follows::\n",
            "\n",
            "        from sklearn.datasets import fetch_california_housing\n",
            "        housing = fetch_california_housing()\n",
            "\n",
            "    for the California housing dataset and::\n",
            "\n",
            "        from sklearn.datasets import fetch_openml\n",
            "        housing = fetch_openml(name=\"house_prices\", as_frame=True)\n",
            "\n",
            "    for the Ames housing dataset.\n",
            "    \n",
            "  warnings.warn(msg, category=FutureWarning)\n"
          ]
        },
        {
          "output_type": "execute_result",
          "data": {
            "text/plain": [
              "DecisionTreeRegressor()"
            ]
          },
          "metadata": {},
          "execution_count": 17
        }
      ],
      "source": [
        "#*Regression - target is a continuous variable\n",
        "\n",
        "from sklearn.tree import DecisionTreeRegressor\n",
        "from sklearn.metrics import mean_squared_error as MSE\n",
        "from sklearn.model_selection import cross_val_score\n",
        "\n",
        "from sklearn.datasets import load_boston\n",
        "boston = load_boston()\n",
        "\n",
        "X_train, X_test, y_train, y_test = train_test_split(boston.data,boston.target,test_size=0.3,random_state=99)\n",
        "\n",
        "reg = DecisionTreeRegressor(max_depth=4, min_samples_leaf=0.14, random_state=99)\n",
        "DecisionTreeRegressor()"
      ]
    },
    {
      "cell_type": "code",
      "execution_count": null,
      "metadata": {
        "id": "Vm5M0LCCxY7v",
        "colab": {
          "base_uri": "https://localhost:8080/"
        },
        "outputId": "bca854a1-8044-4f3b-b8e7-d66aa0ed9c49"
      },
      "outputs": [
        {
          "output_type": "stream",
          "name": "stdout",
          "text": [
            "CV RMSE: 5.53\n",
            "Test RMSE: 5.41\n"
          ]
        }
      ],
      "source": [
        "X=boston.data\n",
        "y=boston.target\n",
        "RMSE_CV = - cross_val_score(reg, X_train, y_train, scoring='neg_root_mean_squared_error', cv= 10)\n",
        "reg.fit(X_train, y_train)\n",
        "y_pred_test = reg.predict(X_test)\n",
        "\n",
        "#  RMSE for CV\n",
        "print('CV RMSE: {:.2f}'.format(RMSE_CV.mean()))\n",
        "\n",
        "# Test RMSE\n",
        "print('Test RMSE: {:.2f}'.format(MSE(y_test, y_pred_test, squared=False)))\n"
      ]
    },
    {
      "cell_type": "code",
      "execution_count": null,
      "metadata": {
        "colab": {
          "base_uri": "https://localhost:8080/"
        },
        "id": "elHQjtUd-yPp",
        "outputId": "ab2e6be9-1999-4b64-d164-287aec010770"
      },
      "outputs": [
        {
          "output_type": "execute_result",
          "data": {
            "text/plain": [
              "3.539434"
            ]
          },
          "metadata": {},
          "execution_count": 19
        }
      ],
      "source": [
        "\n",
        "boston_dmatrix = xgb.DMatrix(data=X,label=y)\n",
        "params={\"objective\":\"reg:squarederror\",\"max_depth\":4, \"alpha\":1}\n",
        "cv_results = xgb.cv(dtrain=boston_dmatrix, params=params,nfold=4,num_boost_round=10,metrics=\"rmse\",as_pandas=True,seed=99)\n",
        "cv_results[\"test-rmse-mean\"].tail(1).values[0]\n"
      ]
    },
    {
      "cell_type": "code",
      "source": [
        "# Linear Regression\n",
        "%matplotlib inline\n",
        "import sklearn\n",
        "from sklearn.datasets import load_boston\n",
        "boston = load_boston()\n",
        "\n"
      ],
      "metadata": {
        "id": "ItrirwCva5P3",
        "colab": {
          "base_uri": "https://localhost:8080/"
        },
        "outputId": "c76a8097-fed0-4e1b-9483-0ffe7d1b7b61"
      },
      "execution_count": null,
      "outputs": [
        {
          "output_type": "stream",
          "name": "stderr",
          "text": [
            "/usr/local/lib/python3.7/dist-packages/sklearn/utils/deprecation.py:87: FutureWarning: Function load_boston is deprecated; `load_boston` is deprecated in 1.0 and will be removed in 1.2.\n",
            "\n",
            "    The Boston housing prices dataset has an ethical problem. You can refer to\n",
            "    the documentation of this function for further details.\n",
            "\n",
            "    The scikit-learn maintainers therefore strongly discourage the use of this\n",
            "    dataset unless the purpose of the code is to study and educate about\n",
            "    ethical issues in data science and machine learning.\n",
            "\n",
            "    In this special case, you can fetch the dataset from the original\n",
            "    source::\n",
            "\n",
            "        import pandas as pd\n",
            "        import numpy as np\n",
            "\n",
            "\n",
            "        data_url = \"http://lib.stat.cmu.edu/datasets/boston\"\n",
            "        raw_df = pd.read_csv(data_url, sep=\"\\s+\", skiprows=22, header=None)\n",
            "        data = np.hstack([raw_df.values[::2, :], raw_df.values[1::2, :2]])\n",
            "        target = raw_df.values[1::2, 2]\n",
            "\n",
            "    Alternative datasets include the California housing dataset (i.e.\n",
            "    :func:`~sklearn.datasets.fetch_california_housing`) and the Ames housing\n",
            "    dataset. You can load the datasets as follows::\n",
            "\n",
            "        from sklearn.datasets import fetch_california_housing\n",
            "        housing = fetch_california_housing()\n",
            "\n",
            "    for the California housing dataset and::\n",
            "\n",
            "        from sklearn.datasets import fetch_openml\n",
            "        housing = fetch_openml(name=\"house_prices\", as_frame=True)\n",
            "\n",
            "    for the Ames housing dataset.\n",
            "    \n",
            "  warnings.warn(msg, category=FutureWarning)\n"
          ]
        }
      ]
    },
    {
      "cell_type": "code",
      "source": [
        "# Scikit Learn accepts Numpy arrays as well as Pandas data frames\n",
        "print(boston.keys())\n",
        "X = boston.data\n",
        "print(\"X shape \", X.shape, type(X))\n",
        "y = boston.target\n",
        "print(\"y shape \", y.shape)\n",
        "\n",
        "print(boston.DESCR)\n",
        "print(boston.feature_names)"
      ],
      "metadata": {
        "id": "UdhySakdcK3d",
        "colab": {
          "base_uri": "https://localhost:8080/"
        },
        "outputId": "11f64639-1b31-4ede-ed16-84aa0298e7eb"
      },
      "execution_count": null,
      "outputs": [
        {
          "output_type": "stream",
          "name": "stdout",
          "text": [
            "dict_keys(['data', 'target', 'feature_names', 'DESCR', 'filename', 'data_module'])\n",
            "X shape  (506, 13) <class 'numpy.ndarray'>\n",
            "y shape  (506,)\n",
            ".. _boston_dataset:\n",
            "\n",
            "Boston house prices dataset\n",
            "---------------------------\n",
            "\n",
            "**Data Set Characteristics:**  \n",
            "\n",
            "    :Number of Instances: 506 \n",
            "\n",
            "    :Number of Attributes: 13 numeric/categorical predictive. Median Value (attribute 14) is usually the target.\n",
            "\n",
            "    :Attribute Information (in order):\n",
            "        - CRIM     per capita crime rate by town\n",
            "        - ZN       proportion of residential land zoned for lots over 25,000 sq.ft.\n",
            "        - INDUS    proportion of non-retail business acres per town\n",
            "        - CHAS     Charles River dummy variable (= 1 if tract bounds river; 0 otherwise)\n",
            "        - NOX      nitric oxides concentration (parts per 10 million)\n",
            "        - RM       average number of rooms per dwelling\n",
            "        - AGE      proportion of owner-occupied units built prior to 1940\n",
            "        - DIS      weighted distances to five Boston employment centres\n",
            "        - RAD      index of accessibility to radial highways\n",
            "        - TAX      full-value property-tax rate per $10,000\n",
            "        - PTRATIO  pupil-teacher ratio by town\n",
            "        - B        1000(Bk - 0.63)^2 where Bk is the proportion of black people by town\n",
            "        - LSTAT    % lower status of the population\n",
            "        - MEDV     Median value of owner-occupied homes in $1000's\n",
            "\n",
            "    :Missing Attribute Values: None\n",
            "\n",
            "    :Creator: Harrison, D. and Rubinfeld, D.L.\n",
            "\n",
            "This is a copy of UCI ML housing dataset.\n",
            "https://archive.ics.uci.edu/ml/machine-learning-databases/housing/\n",
            "\n",
            "\n",
            "This dataset was taken from the StatLib library which is maintained at Carnegie Mellon University.\n",
            "\n",
            "The Boston house-price data of Harrison, D. and Rubinfeld, D.L. 'Hedonic\n",
            "prices and the demand for clean air', J. Environ. Economics & Management,\n",
            "vol.5, 81-102, 1978.   Used in Belsley, Kuh & Welsch, 'Regression diagnostics\n",
            "...', Wiley, 1980.   N.B. Various transformations are used in the table on\n",
            "pages 244-261 of the latter.\n",
            "\n",
            "The Boston house-price data has been used in many machine learning papers that address regression\n",
            "problems.   \n",
            "     \n",
            ".. topic:: References\n",
            "\n",
            "   - Belsley, Kuh & Welsch, 'Regression diagnostics: Identifying Influential Data and Sources of Collinearity', Wiley, 1980. 244-261.\n",
            "   - Quinlan,R. (1993). Combining Instance-Based and Model-Based Learning. In Proceedings on the Tenth International Conference of Machine Learning, 236-243, University of Massachusetts, Amherst. Morgan Kaufmann.\n",
            "\n",
            "['CRIM' 'ZN' 'INDUS' 'CHAS' 'NOX' 'RM' 'AGE' 'DIS' 'RAD' 'TAX' 'PTRATIO'\n",
            " 'B' 'LSTAT']\n"
          ]
        }
      ]
    },
    {
      "cell_type": "code",
      "source": [
        "# split data into train and test\n",
        "# from sklearn.model_selection import train_test_split\n",
        "\n",
        "X_train, X_test, y_train, y_test = train_test_split( X, y, test_size=0.30, random_state=9)\n",
        "\n",
        "# instantiate linear regression\n",
        "from sklearn.linear_model import LinearRegression\n",
        "LinReg = LinearRegression()\n",
        "\n",
        "print (\"X, y train shape: \", X_train.shape, y_train.shape)\n",
        "print (\"X, y test shape: \", X_test.shape, y_test.shape)\n",
        "\n",
        "# fit the training data to the model\n",
        "LinReg.fit(X_train, y_train)\n",
        "\n",
        "# predict the test data \n",
        "y_predicted = LinReg.predict(X_test)\n",
        "\n"
      ],
      "metadata": {
        "colab": {
          "base_uri": "https://localhost:8080/"
        },
        "id": "OY8uZYu1cwvd",
        "outputId": "a27edb7b-9b5e-4801-e1dc-bb25d570320b"
      },
      "execution_count": null,
      "outputs": [
        {
          "output_type": "stream",
          "name": "stdout",
          "text": [
            "X, y train shape:  (354, 13) (354,)\n",
            "X, y test shape:  (152, 13) (152,)\n"
          ]
        }
      ]
    },
    {
      "cell_type": "code",
      "source": [
        "# measure accuracy using mean square error (MSE)\n",
        "# using Numpy\n",
        "mean_sq_error = np.mean( (y_test - y_predicted) **2 )\n",
        "print(mean_sq_error)\n",
        "\n",
        "# using sklearn metrics\n",
        "from sklearn.metrics import mean_squared_error\n",
        "print(mean_squared_error(y_true = y_test, y_pred = LinReg.predict(X_test)))"
      ],
      "metadata": {
        "id": "dAST-We4eHxD",
        "colab": {
          "base_uri": "https://localhost:8080/"
        },
        "outputId": "9fcd2149-e175-45e9-951b-a87804ac2ae3"
      },
      "execution_count": null,
      "outputs": [
        {
          "output_type": "stream",
          "name": "stdout",
          "text": [
            "19.295749073363368\n",
            "19.295749073363368\n"
          ]
        }
      ]
    },
    {
      "cell_type": "code",
      "source": [
        "print (\"error on the training data = \", \n",
        "      mean_squared_error(y_true = y_train, y_pred = LinReg.predict(X_train)), \"\\n\")\n",
        "\n",
        "# How much does the model (the x variable) explain the variability of the response data around its mean?\n",
        "print(LinReg.score(X_test, y_test), \"\\n\")\n",
        "\n",
        "print(LinReg.coef_, \"\\n\")\n",
        "\n",
        "print(LinReg.intercept_)"
      ],
      "metadata": {
        "colab": {
          "base_uri": "https://localhost:8080/"
        },
        "id": "fielLMVOefnh",
        "outputId": "4c0b6b8d-9554-4df2-adf0-dc02377dff5d"
      },
      "execution_count": null,
      "outputs": [
        {
          "output_type": "stream",
          "name": "stdout",
          "text": [
            "error on the training data =  23.16855850467137 \n",
            "\n",
            "0.7826126074271011 \n",
            "\n",
            "[-1.10653650e-01  4.35058932e-02  5.27220034e-02  2.23444360e+00\n",
            " -1.58398648e+01  3.89237897e+00  1.01476364e-03 -1.32124422e+00\n",
            "  2.84930457e-01 -1.15585903e-02 -9.02839713e-01  8.45742872e-03\n",
            " -5.27607786e-01] \n",
            "\n",
            "33.23779607719034\n"
          ]
        }
      ]
    },
    {
      "cell_type": "code",
      "source": [
        "# histogram of residuals - does it satisfy the assumptions for inference?\n",
        "import matplotlib.pyplot as plt\n",
        "plt.hist(y_test - y_predicted)"
      ],
      "metadata": {
        "colab": {
          "base_uri": "https://localhost:8080/",
          "height": 352
        },
        "id": "uZMv89h1f5fq",
        "outputId": "2a80e901-9df1-4fc6-e7b7-f31e0d549516"
      },
      "execution_count": null,
      "outputs": [
        {
          "output_type": "execute_result",
          "data": {
            "text/plain": [
              "(array([ 3.,  9., 30., 63., 21., 13.,  7.,  2.,  2.,  2.]),\n",
              " array([-10.49760771,  -7.67103817,  -4.84446863,  -2.0178991 ,\n",
              "          0.80867044,   3.63523998,   6.46180952,   9.28837905,\n",
              "         12.11494859,  14.94151813,  17.76808767]),\n",
              " <a list of 10 Patch objects>)"
            ]
          },
          "metadata": {},
          "execution_count": 25
        },
        {
          "output_type": "display_data",
          "data": {
            "image/png": "[encoded data removed]",
            "text/plain": [
              "<Figure size 432x288 with 1 Axes>"
            ]
          },
          "metadata": {
            "needs_background": "light"
          }
        }
      ]
    },
    {
      "cell_type": "code",
      "source": [
        "plt.scatter(y_predicted, y_test - y_predicted)"
      ],
      "metadata": {
        "id": "glzRfIPJgOJ4",
        "colab": {
          "base_uri": "https://localhost:8080/",
          "height": 282
        },
        "outputId": "57f88f30-b9d1-4f3a-861c-960bfc337e19"
      },
      "execution_count": null,
      "outputs": [
        {
          "output_type": "execute_result",
          "data": {
            "text/plain": [
              "<matplotlib.collections.PathCollection at 0x7f6bce8d2650>"
            ]
          },
          "metadata": {},
          "execution_count": 26
        },
        {
          "output_type": "display_data",
          "data": {
            "image/png": "[encoded data removed]",
            "text/plain": [
              "<Figure size 432x288 with 1 Axes>"
            ]
          },
          "metadata": {
            "needs_background": "light"
          }
        }
      ]
    },
    {
      "cell_type": "code",
      "source": [
        "plt.scatter(LinReg.predict(X), y - LinReg.predict(X))"
      ],
      "metadata": {
        "id": "WI4uMIT4gN7h",
        "colab": {
          "base_uri": "https://localhost:8080/",
          "height": 282
        },
        "outputId": "dc9ff10a-1001-4dbd-e171-6cb038e58830"
      },
      "execution_count": null,
      "outputs": [
        {
          "output_type": "execute_result",
          "data": {
            "text/plain": [
              "<matplotlib.collections.PathCollection at 0x7f6bce83ca10>"
            ]
          },
          "metadata": {},
          "execution_count": 27
        },
        {
          "output_type": "display_data",
          "data": {
            "image/png": "[encoded data removed]",
            "text/plain": [
              "<Figure size 432x288 with 1 Axes>"
            ]
          },
          "metadata": {
            "needs_background": "light"
          }
        }
      ]
    },
    {
      "cell_type": "code",
      "source": [
        "plt.scatter(LinReg.predict(X_train), y_train - LinReg.predict(X_train))"
      ],
      "metadata": {
        "id": "7HdyOX11gNup",
        "colab": {
          "base_uri": "https://localhost:8080/",
          "height": 282
        },
        "outputId": "c9d35fce-3340-4d24-f543-57d21675214f"
      },
      "execution_count": null,
      "outputs": [
        {
          "output_type": "execute_result",
          "data": {
            "text/plain": [
              "<matplotlib.collections.PathCollection at 0x7f6bce821650>"
            ]
          },
          "metadata": {},
          "execution_count": 28
        },
        {
          "output_type": "display_data",
          "data": {
            "image/png": "[encoded data removed]",
            "text/plain": [
              "<Figure size 432x288 with 1 Axes>"
            ]
          },
          "metadata": {
            "needs_background": "light"
          }
        }
      ]
    },
    {
      "cell_type": "markdown",
      "source": [
        "* Logistic Regression - Classification problem\n",
        "  + discrete (qualitative, categorigal) target variable\n"
      ],
      "metadata": {
        "id": "If3vBmUHjxPF"
      }
    },
    {
      "cell_type": "code",
      "source": [
        "# Logistic Regression \n",
        "\n",
        "# import pandas as pd\n",
        "# import numpy as np\n",
        "# import matplotlib.pyplot as plt\n",
        "import seaborn as sns\n",
        "# %matplotlib inline\n",
        "\n",
        "# from sklearn.model_selection import train_test_split\n",
        "\n",
        "from sklearn.linear_model import LogisticRegression\n",
        "from sklearn.metrics import classification_report, confusion_matrix\n",
        "from sklearn.metrics import roc_auc_score, roc_curve, accuracy_score\n",
        "from sklearn.metrics import precision_score, recall_score\n",
        "from sklearn import preprocessing\n",
        "\n",
        "diab_df = pd.read_csv(\"diabetes.csv\")\n",
        "#diab_df.head()\n",
        "\n",
        "X = diab_df.iloc[:,0:-1] \n",
        "y = diab_df.Outcome \n",
        "X.head()"
      ],
      "metadata": {
        "colab": {
          "base_uri": "https://localhost:8080/",
          "height": 206
        },
        "id": "PW7Wcn33jdrN",
        "outputId": "a9aad2d1-186f-415b-95a6-42664b5d6e56"
      },
      "execution_count": null,
      "outputs": [
        {
          "output_type": "execute_result",
          "data": {
            "text/html": [
              "<div>\n",
              "<style scoped>\n",
              "    .dataframe tbody tr th:only-of-type {\n",
              "        vertical-align: middle;\n",
              "    }\n",
              "\n",
              "    .dataframe tbody tr th {\n",
              "        vertical-align: top;\n",
              "    }\n",
              "\n",
              "    .dataframe thead th {\n",
              "        text-align: right;\n",
              "    }\n",
              "</style>\n",
              "<table border=\"1\" class=\"dataframe\">\n",
              "  <thead>\n",
              "    <tr style=\"text-align: right;\">\n",
              "      <th></th>\n",
              "      <th>Pregnancies</th>\n",
              "      <th>Glucose</th>\n",
              "      <th>BloodPressure</th>\n",
              "      <th>SkinThickness</th>\n",
              "      <th>Insulin</th>\n",
              "      <th>BMI</th>\n",
              "      <th>DiabetesPedigreeFunction</th>\n",
              "      <th>Age</th>\n",
              "    </tr>\n",
              "  </thead>\n",
              "  <tbody>\n",
              "    <tr>\n",
              "      <th>0</th>\n",
              "      <td>6</td>\n",
              "      <td>148</td>\n",
              "      <td>72</td>\n",
              "      <td>35</td>\n",
              "      <td>0</td>\n",
              "      <td>33.6</td>\n",
              "      <td>0.627</td>\n",
              "      <td>50</td>\n",
              "    </tr>\n",
              "    <tr>\n",
              "      <th>1</th>\n",
              "      <td>1</td>\n",
              "      <td>85</td>\n",
              "      <td>66</td>\n",
              "      <td>29</td>\n",
              "      <td>0</td>\n",
              "      <td>26.6</td>\n",
              "      <td>0.351</td>\n",
              "      <td>31</td>\n",
              "    </tr>\n",
              "    <tr>\n",
              "      <th>2</th>\n",
              "      <td>8</td>\n",
              "      <td>183</td>\n",
              "      <td>64</td>\n",
              "      <td>0</td>\n",
              "      <td>0</td>\n",
              "      <td>23.3</td>\n",
              "      <td>0.672</td>\n",
              "      <td>32</td>\n",
              "    </tr>\n",
              "    <tr>\n",
              "      <th>3</th>\n",
              "      <td>1</td>\n",
              "      <td>89</td>\n",
              "      <td>66</td>\n",
              "      <td>23</td>\n",
              "      <td>94</td>\n",
              "      <td>28.1</td>\n",
              "      <td>0.167</td>\n",
              "      <td>21</td>\n",
              "    </tr>\n",
              "    <tr>\n",
              "      <th>4</th>\n",
              "      <td>0</td>\n",
              "      <td>137</td>\n",
              "      <td>40</td>\n",
              "      <td>35</td>\n",
              "      <td>168</td>\n",
              "      <td>43.1</td>\n",
              "      <td>2.288</td>\n",
              "      <td>33</td>\n",
              "    </tr>\n",
              "  </tbody>\n",
              "</table>\n",
              "</div>"
            ],
            "text/plain": [
              "   Pregnancies  Glucose  BloodPressure  ...   BMI  DiabetesPedigreeFunction  Age\n",
              "0            6      148             72  ...  33.6                     0.627   50\n",
              "1            1       85             66  ...  26.6                     0.351   31\n",
              "2            8      183             64  ...  23.3                     0.672   32\n",
              "3            1       89             66  ...  28.1                     0.167   21\n",
              "4            0      137             40  ...  43.1                     2.288   33\n",
              "\n",
              "[5 rows x 8 columns]"
            ]
          },
          "metadata": {},
          "execution_count": 44
        }
      ]
    },
    {
      "cell_type": "code",
      "source": [
        "# split the data into train and test\n",
        "X_train,X_test,y_train,y_test=train_test_split(X,y,test_size=0.25,random_state=0)\n",
        "\n",
        "# instatiate the logistic regression\n",
        "LogReg = LogisticRegression()\n",
        "\n",
        "# preprosses, train and predict\n",
        "scaler = preprocessing.StandardScaler()\n",
        "X_train = scaler.fit_transform(X_train)\n",
        "X_test = scaler.transform(X_test)\n",
        "\n",
        "LogReg.fit(X_train,y_train)\n",
        "y_pred=LogReg.predict(X_test)\n",
        "\n",
        "print('Classes', LogReg.classes_)\n",
        "print('Intercept',LogReg.intercept_)\n",
        "print(\"Coefficients\", LogReg.coef_, \"\\n\" )\n",
        "\n",
        "print(\"Accuracy\", LogReg.score(X_test, y_test), \"\\n\")\n",
        "print(classification_report(y_test, LogReg.predict(X_test)))"
      ],
      "metadata": {
        "colab": {
          "base_uri": "https://localhost:8080/"
        },
        "id": "vx_NW-cSnExp",
        "outputId": "cf9e285a-61d6-436b-d8a3-ff3c7abab62d"
      },
      "execution_count": null,
      "outputs": [
        {
          "output_type": "stream",
          "name": "stdout",
          "text": [
            "Classes [0 1]\n",
            "Intercept [-0.8106916]\n",
            "Coefficients [[ 0.29286006  1.03288106 -0.20519002  0.09191431 -0.11308546  0.68771364\n",
            "   0.29190585  0.26366929]] \n",
            "\n",
            "Accuracy 0.8020833333333334 \n",
            "\n",
            "              precision    recall  f1-score   support\n",
            "\n",
            "           0       0.82      0.91      0.86       130\n",
            "           1       0.75      0.58      0.65        62\n",
            "\n",
            "    accuracy                           0.80       192\n",
            "   macro avg       0.78      0.74      0.76       192\n",
            "weighted avg       0.80      0.80      0.79       192\n",
            "\n"
          ]
        }
      ]
    },
    {
      "cell_type": "markdown",
      "source": [
        "* Confusion Matrix\n",
        "  + Accuracy = (tp + tn)/(p + n)\n",
        "  + Sensitivity, Recall or True Positve Rate (TPR) = tp/p = tp/(tp + fn) \n",
        "  + Specificity (SPC) or True Negative Rate = tn/n = tn/tn + fp\n",
        "  + Precision or Positive Predictive Value (PPV): proportion of true positives PPV = tp/(tp + fp)\n",
        "  + True Negative Rate (TNR) = tn/n = tn/(tn + fp) = 1 - FPR \n",
        "  + False Positive Rate (FPR) = fp/n = fp/(fp + tn) - 1 = TNR\n",
        "\n",
        "* F1 Score is measure of accuracy\n",
        "  + harmonic mean of precision and recall (sensitivity)\n",
        "  \n",
        "<img src=\"https://wikimedia.org/api/rest_v1/media/math/render/svg/9c94f59b68f5ae0dc92185906c7ec4214fd04e1e\">\n"
      ],
      "metadata": {
        "id": "VrbPh8MjpDuG"
      }
    },
    {
      "cell_type": "code",
      "source": [
        "print(\"Accuracy:\", accuracy_score(y_test, y_pred))\n",
        "print(\"Precision:\", precision_score(y_test, y_pred))\n",
        "print(\"Recall:\", recall_score(y_test, y_pred))"
      ],
      "metadata": {
        "id": "CyA7Ag10x79d",
        "colab": {
          "base_uri": "https://localhost:8080/"
        },
        "outputId": "9213f72e-4444-44fd-c932-87b40978d0f7"
      },
      "execution_count": null,
      "outputs": [
        {
          "output_type": "stream",
          "name": "stdout",
          "text": [
            "Accuracy: 0.8020833333333334\n",
            "Precision: 0.75\n",
            "Recall: 0.5806451612903226\n"
          ]
        }
      ]
    },
    {
      "cell_type": "code",
      "source": [
        "# confusion matrix\n",
        "conf_mat = confusion_matrix(y_test, y_pred)\n",
        "print(conf_mat, \"\\n\")\n",
        "\n",
        "categories = [0,1] \n",
        "fig, ax = plt.subplots()\n",
        "plt.xticks([0,1], categories)\n",
        "plt.yticks([0,1], categories)\n",
        "# create heatmap\n",
        "sns.heatmap(pd.DataFrame(conf_mat), annot=True, cmap=\"YlGnBu\" ,fmt='g')\n",
        "ax.xaxis.set_label_position(\"top\")\n",
        "plt.tight_layout()\n",
        "plt.title('Confusion matrix', y=1.1)\n",
        "plt.ylabel('Actual label')\n",
        "plt.xlabel('Predicted label')"
      ],
      "metadata": {
        "colab": {
          "base_uri": "https://localhost:8080/",
          "height": 394
        },
        "id": "eklZYpadnwV_",
        "outputId": "4f935269-2d7d-420f-94c7-3c1ffccd8be8"
      },
      "execution_count": null,
      "outputs": [
        {
          "output_type": "stream",
          "name": "stdout",
          "text": [
            "[[118  12]\n",
            " [ 26  36]] \n",
            "\n"
          ]
        },
        {
          "output_type": "execute_result",
          "data": {
            "text/plain": [
              "Text(0.5, 257.44, 'Predicted label')"
            ]
          },
          "metadata": {},
          "execution_count": 33
        },
        {
          "output_type": "display_data",
          "data": {
            "image/png": "[encoded data removed]",
            "text/plain": [
              "<Figure size 432x288 with 2 Axes>"
            ]
          },
          "metadata": {
            "needs_background": "light"
          }
        }
      ]
    },
    {
      "cell_type": "markdown",
      "source": [
        ""
      ],
      "metadata": {
        "id": "Jq4VbCKyo5Ti"
      }
    },
    {
      "cell_type": "markdown",
      "source": [
        "* Class bias - imbalance between positive cases and negative cases in the data\n",
        "  + Dummy Classifier - dummy algorithm most frequent predictor"
      ],
      "metadata": {
        "id": "4AiltFVPyD10"
      }
    },
    {
      "cell_type": "code",
      "source": [
        "# Dummy classifier in SKlearn\n",
        "from sklearn.dummy import DummyClassifier\n",
        "dummy_clf = DummyClassifier(strategy=\"most_frequent\")"
      ],
      "metadata": {
        "id": "uTcD65s7yiMc"
      },
      "execution_count": null,
      "outputs": []
    },
    {
      "cell_type": "code",
      "source": [
        "# ROC curve and AUROC\n",
        "y_pred_proba = LogReg.predict_proba(X_test)[::,1]   # probability of trues\n",
        "fpr, tpr, _ = roc_curve(y_test,  y_pred_proba)\n",
        "auc = roc_auc_score(y_test, y_pred_proba)\n",
        "plt.figure()\n",
        "lw = 2\n",
        "plt.plot(fpr, tpr, color='darkorange',\n",
        "        lw=2, label='ROC curve (area = %0.2f)' % auc)\n",
        "plt.plot([0, 1], [0, 1], color='navy', lw=2, linestyle='--')\n",
        "plt.xlim([0.0, 1.0])\n",
        "plt.ylim([0.0, 1.05])\n",
        "plt.xlabel('False Positive Rate')\n",
        "plt.ylabel('True Positive Rate')\n",
        "plt.title('Receiver operating characteristic example')\n",
        "plt.legend(loc=\"lower right\")\n",
        "plt.show()"
      ],
      "metadata": {
        "colab": {
          "base_uri": "https://localhost:8080/",
          "height": 295
        },
        "id": "WdN0dKsyyuRj",
        "outputId": "eb0362eb-339f-41d0-fedb-79ebc085ef04"
      },
      "execution_count": null,
      "outputs": [
        {
          "output_type": "display_data",
          "data": {
            "image/png": "[encoded data removed]",
            "text/plain": [
              "<Figure size 432x288 with 1 Axes>"
            ]
          },
          "metadata": {
            "needs_background": "light"
          }
        }
      ]
    },
    {
      "cell_type": "markdown",
      "source": [
        "<img src = \"https://i.pinimg.com/originals/5d/90/79/5d9079798db012ca2af8806d7d211fdf.png\" >\n",
        "\n",
        "* Derivation of Bayes Theorem\n",
        "<img src=\"https://sites.google.com/site/artificialcortext/_/rsrc/1270096677974/others/mathematics/bayes-theorem/bayes-der.jpg\">\n",
        "\n",
        "* Frequentist - probability is the proportion of times an event occurs (frequency)\n",
        "  + classical statistics\n",
        "    + p-value, confidence intervals, null hypothesis testing\n",
        "  + hypothesis is either true or false\n",
        "  + use maximum of liklihoods P(D|H) to choose a hypothesis\n",
        "\n",
        "* Bayesian - probability is quantification of personal belief\n",
        "  + assign a probability to\n",
        "    + a hypothesis or population parameter\n",
        "    + events that are not repeatable\n",
        "    + events that happened in the past\n",
        "  + probability of a hypothesis is updated as new evidence is found\n",
        "\n",
        "Example:\n",
        "P(test positive | sick person) = 0.99\n",
        "P(test negative | healthy person) = 0.98\n",
        "P(sick person) = 0.001  (disease prevalence)\n",
        "\n",
        "If test is positive, what is the probability person is sick?\n",
        "\n",
        "P(person sick | test positive) = P(test positive| person sick)*P(person sick) / p(test positive)\n",
        "\n",
        "denominator: P(test positive) = P(test positive | person sick) * P(person sick) + P(test positive | person healthy) * P(person healthy) = \n",
        "(0.99 * 0.001 + 0.02 * 0.999) = 0.02097\n",
        "\n",
        "P(person sick | test positive) = (0.99 * 0.001) / 0.02097 = 0.0472 or 4.7%\n"
      ],
      "metadata": {
        "id": "vSsR9lKuzM9r"
      }
    },
    {
      "cell_type": "markdown",
      "source": [
        "#Example from DataCamp\n",
        "* Calculate and print the unconditional probability of spam\n",
        "\n",
        "p_spam = emails[\"spam\"].mean()  \n",
        "print(p_spam)\n",
        "\n",
        "* Calculate and print the unconditional probability of \"!!!\"\n",
        "\n",
        "p_3_excl = emails[\"contains_3_excl\"].mean()  \n",
        "print(p_3_excl)\n",
        "\n",
        "* Calculate and print the probability of \"!!!\" given spam\n",
        "\n",
        "p_3_excl_given_spam = emails.loc[emails[\"spam\"]][\"contains_3_excl\"].mean()  \n",
        "print(p_3_excl_given_spam)\n",
        "\n",
        "* Calculate and print the probability of spam given \"!!!\"\n",
        "\n",
        "p_spam_given_3_excl = p_3_excl_given_spam * p_spam / p_3_excl  \n",
        "print(p_spam_given_3_excl)"
      ],
      "metadata": {
        "id": "8rWEIloTZvQc"
      }
    },
    {
      "cell_type": "code",
      "source": [
        "# Three competing hypothesis\n",
        "# 0 ->fair coin HT\n",
        "# 1-> two heads coin HH\n",
        "# 2 -> two tils coin TT\n",
        "# one coin chosen randomly and tossed\n",
        "# lands heads up, which coin was chosen?\n",
        "\n",
        "# Prior P(H)\n",
        "prior = np.array([1/3,1/3,1/3])   # each coin has equal prob. of being chosen\n",
        "\n",
        "# Likelihood P(D|H)\n",
        "# Likelihood for heads: P(heads | first coin) = 1/2; P(heads | second coin) = 1; P(heads|third coin) = 0\n",
        "likelihood_h = np.array([1/2,1,0])\n",
        "\n",
        "# Likelihood for tails \n",
        "likelihood_t = np.array([1/2,0,1])\n",
        "\n",
        "# Posterior P(H|D) = likelihood * Prior / P(D)\n",
        "\n",
        "# We observe heads H:\n",
        "# We update our probability for each hypothesis in light of the new evidence. Change your mind !\n",
        "posterior = list([1/3,1/3,1/3])\n",
        "for i in range(3):\n",
        "    posterior[i] = likelihood_h[i] * prior[i]  / np.sum(likelihood_h * prior)\n",
        "print(posterior) \n"
      ],
      "metadata": {
        "colab": {
          "base_uri": "https://localhost:8080/"
        },
        "id": "Rhr71P9-4qOU",
        "outputId": "f7d1e334-b3c5-4d25-d85b-35c647e6e342"
      },
      "execution_count": null,
      "outputs": [
        {
          "output_type": "stream",
          "name": "stdout",
          "text": [
            "[0.3333333333333333, 0.6666666666666666, 0.0]\n"
          ]
        }
      ]
    },
    {
      "cell_type": "markdown",
      "source": [
        "The probability of the first coin didn't change. The probability of the second coin doubled. The probability of the third coin changed to zero. If we observe heads, it can be the two tails coin."
      ],
      "metadata": {
        "id": "3wnqKsLZ6oPa"
      }
    },
    {
      "cell_type": "code",
      "source": [
        "# We observe again heads H. The previous posterior is the new prior. Again we change our minds!\n",
        "prior = posterior\n",
        "for i in range(3):\n",
        "    posterior[i] = likelihood_h[i] * prior[i]  / np.sum(likelihood_h * prior)\n",
        "print(posterior)"
      ],
      "metadata": {
        "colab": {
          "base_uri": "https://localhost:8080/"
        },
        "id": "sc_0zTqe6q4Q",
        "outputId": "8d3ac144-e45f-40f0-ded8-6779ce0203b8"
      },
      "execution_count": null,
      "outputs": [
        {
          "output_type": "stream",
          "name": "stdout",
          "text": [
            "[0.2, 0.8695652173913043, 0.0]\n"
          ]
        }
      ]
    },
    {
      "cell_type": "markdown",
      "source": [
        "The probability of the first coin decreases, that of the second coin increases, and third coin stays zero."
      ],
      "metadata": {
        "id": "q-MCUC-z6zCx"
      }
    },
    {
      "cell_type": "code",
      "source": [
        "# We observe again heads H. The previous posterior is the new prior\n",
        "prior = posterior\n",
        "for i in range(3):\n",
        "    posterior[i] = likelihood_h[i] * prior[i]  / np.sum(likelihood_h * prior)\n",
        "print(posterior)"
      ],
      "metadata": {
        "colab": {
          "base_uri": "https://localhost:8080/"
        },
        "id": "qyj8o9yg6z6i",
        "outputId": "bb726771-d2fc-45df-a5bb-b2b06a959344"
      },
      "execution_count": null,
      "outputs": [
        {
          "output_type": "stream",
          "name": "stdout",
          "text": [
            "[0.1031390134529148, 0.9440152397079056, 0.0]\n"
          ]
        }
      ]
    },
    {
      "cell_type": "markdown",
      "source": [
        "Now it looks like the first coin is improbable (p=0.103) and the second coin is almost certain (p=0.944). It is certainly not the third coin (p=0).\n",
        "\n",
        "What happens if the friend tosses the coin one more time and it lands tails up?"
      ],
      "metadata": {
        "id": "1n18C45Y6-AK"
      }
    },
    {
      "cell_type": "code",
      "source": [
        "# We observe tails T. The previous posterior is the new prior.\n",
        "prior = posterior\n",
        "for i in range(3):\n",
        "    posterior[i] = likelihood_t[i] * prior[i]  / np.sum(likelihood_t * prior)\n",
        "print(posterior)"
      ],
      "metadata": {
        "colab": {
          "base_uri": "https://localhost:8080/"
        },
        "id": "E5hwMjO-7CEi",
        "outputId": "557bca84-09c8-4e0e-cac1-10d89351d1ef"
      },
      "execution_count": null,
      "outputs": [
        {
          "output_type": "stream",
          "name": "stdout",
          "text": [
            "[1.0, 0.0, 0.0]\n"
          ]
        }
      ]
    },
    {
      "cell_type": "markdown",
      "source": [
        "The improbable first coin with heads and tails must be the truth (p=1), since the others were eliminated as impossible (p=0)"
      ],
      "metadata": {
        "id": "BaBiPu3A7FqK"
      }
    },
    {
      "cell_type": "markdown",
      "source": [
        "* Monty Hall Problem\n",
        " + 3 doors, pick a door\n",
        " + 1 door is revealed\n",
        " + it is to your advantage to switch, Pr(win) = 2/3"
      ],
      "metadata": {
        "id": "I-NRbGnh7Rv6"
      }
    },
    {
      "cell_type": "code",
      "source": [
        "# Frequentist simulation (repeated trials)\n",
        "# import numpy as np\n",
        "\n",
        "no_change_strategy_wins = 0\n",
        "change_strategy_wins = 0\n",
        "\n",
        "all_doors = [1,2,3]\n",
        "\n",
        "for i in range(10000):\n",
        "  first_time_pick = np.random.choice(all_doors)\n",
        "  door_with_car = np.random.choice(all_doors)    \n",
        "  all_doors_n = all_doors.copy()\n",
        "  if first_time_pick == door_with_car:\n",
        "    x = all_doors_n.remove(first_time_pick)\n",
        "    monty_opens_door = np.random.choice(all_doors_n)\n",
        "  else:\n",
        "    remain_doors = all_doors_n.remove(first_time_pick)\n",
        "    w = all_doors_n.remove(door_with_car)\n",
        "    monty_opens_door =  np.random.choice(all_doors_n) \n",
        "  second_time_pick = first_time_pick\n",
        "  if (second_time_pick == door_with_car): \n",
        "    no_change_strategy_wins = no_change_strategy_wins + 1  \n",
        "  all_doors_n1 = all_doors.copy() \n",
        "  # Always change strategy\n",
        "  some_doors = all_doors_n1.remove(first_time_pick)\n",
        "  y = all_doors_n1.remove(monty_opens_door)\n",
        "  second_time_pick = all_doors_n1\n",
        "  if (second_time_pick == door_with_car): \n",
        "     change_strategy_wins=change_strategy_wins + 1\n",
        "\n",
        "print(change_strategy_wins/10000)\n",
        "print(no_change_strategy_wins/10000)"
      ],
      "metadata": {
        "colab": {
          "base_uri": "https://localhost:8080/"
        },
        "id": "4jdjUhIR8BNZ",
        "outputId": "6b58bb7f-3895-418b-9b91-1863ae1e4e9e"
      },
      "execution_count": null,
      "outputs": [
        {
          "output_type": "stream",
          "name": "stdout",
          "text": [
            "0.6698\n",
            "0.3302\n"
          ]
        }
      ]
    },
    {
      "cell_type": "markdown",
      "source": [
        "Bayesian Solution\n",
        "Let us assume (without loss of generality) that you pick door 1 and the host Monty opens door 2.\n",
        "\n",
        "Let A be the event that the car is in door 1\n",
        "\n",
        "Let B be the event that the car is in door 2\n",
        "\n",
        "Let C be the event that the car is in door 3\n",
        "\n",
        "Let D be the event that Monty opens door 2\n",
        "\n",
        "According to Bayes, the probabilty of car in door 1 given Monty opens door 2 is: P(A|D) = P(D|A)*P(A) / P(D)\n",
        "\n",
        "Let us work on the denominator P(D) = P(D|A)*P(A) + P(D|B)P(B) + P(D|C)P(C)\n",
        "\n",
        "We got the algebra of Bayes rule, but what do these terms stand for.\n",
        "\n",
        "Let us begin with the numerator: P(D|A) means the probability that Monty opens door 2 given the car is in door 1. This is 1/2, since Monty can choose either of the remaining doors with the goats. Also, P(A) = 1/3, since the car can be in any door equally likely. So the numerator is 1/2 * 1/3 = 1/6\n",
        "\n",
        "Now the terms of the denominator:\n",
        "\n",
        "P(D|A)*P(A) is same as the numerator; it is 1/6\n",
        "\n",
        "P(D|B)P(B) : First P(D|B) means the probability that Monty opens door 2 given the car is in door 2. That is impossible. Why would he show where the car is? So P(D|B) = 0 and P(D|B)P(B) = 0*1/3 = 0\n",
        "\n",
        "P(D|C)P(C): First P(D|C) means the probability that Monty opens door 2 given the car is in door 3. That is certain, since he cannot open the door with the car (3). He is forced to open door 2 with a goat. So P(D|B ) = 1 and P(D|C)P(C) = 1*1/3 = 1/3.\n",
        "\n",
        "Now we have the values of all terms, so P(A|D) = 1/6 / (1/6 + 0 + 1/3) = 1/3\n",
        "\n",
        "A similar calculation shows that P(C|D) = 2/3 or you can see that P(C|D) = 1 - P(A|D) = 1 - 1/3 = 2/3\n",
        "\n",
        "Switching has P = 2/3 and sticking to first choice has p = 1/3"
      ],
      "metadata": {
        "id": "hbur9Zpr8scW"
      }
    },
    {
      "cell_type": "code",
      "source": [
        "# Bayesian Ridge Regression\n",
        "\n",
        "from sklearn import linear_model\n",
        "X = [[0., 0.], [1., 1.], [2., 2.], [3., 3.]]\n",
        "Y = [0., 1., 2., 3.]\n",
        "reg = linear_model.BayesianRidge()\n",
        "reg.fit(X, Y)\n",
        "print(reg.predict([[1, 0.]]))\n",
        "print(reg.coef_)"
      ],
      "metadata": {
        "colab": {
          "base_uri": "https://localhost:8080/"
        },
        "id": "27KdB5F4953O",
        "outputId": "a011e927-c8dd-4935-c83f-47fe46794ee5"
      },
      "execution_count": null,
      "outputs": [
        {
          "output_type": "stream",
          "name": "stdout",
          "text": [
            "[0.50000013]\n",
            "[0.49999993 0.49999993]\n"
          ]
        }
      ]
    }
  ],
  "metadata": {
    "colab": {
      "name": "AA_Review_Final.ipynb",
      "provenance": [],
      "collapsed_sections": [],
      "toc_visible": true,
      "include_colab_link": true
    },
    "kernelspec": {
      "display_name": "Python 3",
      "language": "python",
      "name": "python3"
    },
    "language_info": {
      "codemirror_mode": {
        "name": "ipython",
        "version": 3
      },
      "file_extension": ".py",
      "mimetype": "text/x-python",
      "name": "python",
      "nbconvert_exporter": "python",
      "pygments_lexer": "ipython3",
      "version": "3.8.8"
    }
  },
  "nbformat": 4,
  "nbformat_minor": 0
}